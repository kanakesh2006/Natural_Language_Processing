{
  "cells": [
    {
      "cell_type": "markdown",
      "metadata": {
        "id": "view-in-github",
        "colab_type": "text"
      },
      "source": [
        "<a href=\"https://colab.research.google.com/github/kanakesh2006/Natural_Language_Processing/blob/main/1_Regex/regex_for_information_extraction.ipynb\" target=\"_parent\"><img src=\"https://colab.research.google.com/assets/colab-badge.svg\" alt=\"Open In Colab\"/></a>"
      ]
    },
    {
      "cell_type": "markdown",
      "metadata": {
        "id": "lJMtOCMMa18b"
      },
      "source": [
        "<h1 align='center'>NLP Tutorial: Regular Expressions</h1>"
      ]
    },
    {
      "cell_type": "markdown",
      "metadata": {
        "id": "5bVgsSUVa18f"
      },
      "source": [
        "<h3>(1) Regex in customer support</h3>"
      ]
    },
    {
      "cell_type": "markdown",
      "metadata": {
        "id": "-TYjuqp0a18f"
      },
      "source": [
        "<h3>Retrieve order number</h3>"
      ]
    },
    {
      "cell_type": "code",
      "execution_count": null,
      "metadata": {
        "id": "sqawGrxFa18g",
        "outputId": "8578c794-9e4b-4845-ebfb-64fe21fd0bc5"
      },
      "outputs": [
        {
          "data": {
            "text/plain": [
              "['412889912']"
            ]
          },
          "execution_count": 56,
          "metadata": {},
          "output_type": "execute_result"
        }
      ],
      "source": [
        "import re\n",
        "\n",
        "chat1='codebasics: Hello, I am having an issue with my order # 412889912'\n",
        "\n",
        "pattern = 'order[^\\d]*(\\d*)'\n",
        "matches = re.findall(pattern, chat1)\n",
        "matches"
      ]
    },
    {
      "cell_type": "code",
      "execution_count": null,
      "metadata": {
        "id": "BngvfGX1a18i",
        "outputId": "3917f6cf-0173-4e4f-b68f-34623fd6aaa7"
      },
      "outputs": [
        {
          "data": {
            "text/plain": [
              "['412889912']"
            ]
          },
          "execution_count": 57,
          "metadata": {},
          "output_type": "execute_result"
        }
      ],
      "source": [
        "chat2='codebasics: I have a problem with my order number 412889912'\n",
        "pattern = 'order[^\\d]*(\\d*)'\n",
        "matches = re.findall(pattern, chat2)\n",
        "matches"
      ]
    },
    {
      "cell_type": "code",
      "execution_count": null,
      "metadata": {
        "scrolled": true,
        "id": "SXR_TylSa18j",
        "outputId": "2af20f18-b353-4465-b348-2fc7122da8ef"
      },
      "outputs": [
        {
          "data": {
            "text/plain": [
              "['412889912']"
            ]
          },
          "execution_count": 58,
          "metadata": {},
          "output_type": "execute_result"
        }
      ],
      "source": [
        "chat3='codebasics: My order 412889912 is having an issue, I was charged 300$ when online it says 280$'\n",
        "pattern = 'order[^\\d]*(\\d*)'\n",
        "matches = re.findall(pattern, chat3)\n",
        "matches"
      ]
    },
    {
      "cell_type": "code",
      "execution_count": null,
      "metadata": {
        "id": "aPYjPOVRa18j"
      },
      "outputs": [],
      "source": [
        "def get_pattern_match(pattern, text):\n",
        "    matches = re.findall(pattern, text)\n",
        "    if matches:\n",
        "        return matches[0]"
      ]
    },
    {
      "cell_type": "code",
      "execution_count": null,
      "metadata": {
        "id": "lI9ZxNcma18k",
        "outputId": "f7d7d898-3a9c-4ea1-c65b-7b1585285787"
      },
      "outputs": [
        {
          "data": {
            "text/plain": [
              "'412889912'"
            ]
          },
          "execution_count": 60,
          "metadata": {},
          "output_type": "execute_result"
        }
      ],
      "source": [
        "get_pattern_match('order[^\\d]*(\\d*)', chat1)"
      ]
    },
    {
      "cell_type": "markdown",
      "metadata": {
        "id": "rF3fmuzda18k"
      },
      "source": [
        "<h3>Retrieve email id and phone</h3>"
      ]
    },
    {
      "cell_type": "code",
      "execution_count": null,
      "metadata": {
        "id": "QIzqo1GMa18l"
      },
      "outputs": [],
      "source": [
        "chat1 = 'codebasics: you ask lot of questions 😠  1235678912, abc@xyz.com'\n",
        "chat2 = 'codebasics: here it is: (123)-567-8912, abc@xyz.com'\n",
        "chat3 = 'codebasics: yes, phone: 1235678912 email: abc@xyz.com'"
      ]
    },
    {
      "cell_type": "markdown",
      "metadata": {
        "id": "Ji28ThIEa18m"
      },
      "source": [
        "**-----Email id-----**"
      ]
    },
    {
      "cell_type": "code",
      "execution_count": null,
      "metadata": {
        "id": "sivpTUFza18m",
        "outputId": "89056fe9-101b-49c4-e072-bc5b26a93c58"
      },
      "outputs": [
        {
          "data": {
            "text/plain": [
              "'abc@xyz.com'"
            ]
          },
          "execution_count": 62,
          "metadata": {},
          "output_type": "execute_result"
        }
      ],
      "source": [
        "get_pattern_match('[a-zA-Z0-9_]*@[a-z]*\\.[a-zA-Z0-9]*',chat1)"
      ]
    },
    {
      "cell_type": "code",
      "execution_count": null,
      "metadata": {
        "id": "CHAsA_kUa18n",
        "outputId": "620dffde-3d2b-45dc-d78f-8daed15e3f16"
      },
      "outputs": [
        {
          "data": {
            "text/plain": [
              "'abc@xyz.com'"
            ]
          },
          "execution_count": 63,
          "metadata": {},
          "output_type": "execute_result"
        }
      ],
      "source": [
        "get_pattern_match('[a-zA-Z0-9_]*@[a-z]*\\.[a-zA-Z0-9]*',chat2)"
      ]
    },
    {
      "cell_type": "code",
      "execution_count": null,
      "metadata": {
        "scrolled": true,
        "id": "WyOm2jiCa18n",
        "outputId": "dd730324-3817-413d-baf5-2b1059211365"
      },
      "outputs": [
        {
          "data": {
            "text/plain": [
              "'abc@xyz.com'"
            ]
          },
          "execution_count": 64,
          "metadata": {},
          "output_type": "execute_result"
        }
      ],
      "source": [
        "get_pattern_match('[a-zA-Z0-9_]*@[a-z]*\\.[a-zA-Z0-9]*',chat3)"
      ]
    },
    {
      "cell_type": "markdown",
      "metadata": {
        "id": "UMFz2NHfa18o"
      },
      "source": [
        "**-----Phone number-----**"
      ]
    },
    {
      "cell_type": "code",
      "execution_count": null,
      "metadata": {
        "id": "UFCDzapwa18o",
        "outputId": "233b7911-022d-4275-eb77-b8481d500c72"
      },
      "outputs": [
        {
          "data": {
            "text/plain": [
              "'1235678912'"
            ]
          },
          "execution_count": 39,
          "metadata": {},
          "output_type": "execute_result"
        }
      ],
      "source": [
        "get_pattern_match('(\\d{10})|(\\(\\d{3}\\)-\\d{3}-\\d{4})',chat1)"
      ]
    },
    {
      "cell_type": "code",
      "execution_count": null,
      "metadata": {
        "id": "e0slkR6ma18o",
        "outputId": "cb45ba7d-0787-44c2-bb13-18813fee6e42"
      },
      "outputs": [
        {
          "data": {
            "text/plain": [
              "('', '(123)-567-8912')"
            ]
          },
          "execution_count": 67,
          "metadata": {},
          "output_type": "execute_result"
        }
      ],
      "source": [
        "get_pattern_match('(\\d{10})|(\\(\\d{3}\\)-\\d{3}-\\d{4})', chat2)"
      ]
    },
    {
      "cell_type": "code",
      "execution_count": null,
      "metadata": {
        "id": "qtpbA8bPa18p",
        "outputId": "0e7960a7-bc42-4ffb-bf0f-3907b69fe1a1"
      },
      "outputs": [
        {
          "data": {
            "text/plain": [
              "('1235678912', '')"
            ]
          },
          "execution_count": 68,
          "metadata": {},
          "output_type": "execute_result"
        }
      ],
      "source": [
        "get_pattern_match('(\\d{10})|(\\(\\d{3}\\)-\\d{3}-\\d{4})', chat3)"
      ]
    },
    {
      "cell_type": "markdown",
      "metadata": {
        "id": "IdMNe5m0a18p"
      },
      "source": [
        "<h3>(2) Regex for Information Extraction</h3>"
      ]
    },
    {
      "cell_type": "code",
      "execution_count": null,
      "metadata": {
        "id": "DgOLnbG7a18p"
      },
      "outputs": [],
      "source": [
        "text='''\n",
        "Born\tElon Reeve Musk\n",
        "June 28, 1971 (age 50)\n",
        "Pretoria, Transvaal, South Africa\n",
        "Citizenship\n",
        "South Africa (1971–present)\n",
        "Canada (1971–present)\n",
        "United States (2002–present)\n",
        "Education\tUniversity of Pennsylvania (BS, BA)\n",
        "Title\n",
        "Founder, CEO and Chief Engineer of SpaceX\n",
        "CEO and product architect of Tesla, Inc.\n",
        "Founder of The Boring Company and X.com (now part of PayPal)\n",
        "Co-founder of Neuralink, OpenAI, and Zip2\n",
        "Spouse(s)\n",
        "Justine Wilson\n",
        "​\n",
        "​(m. 2000; div. 2008)​\n",
        "Talulah Riley\n",
        "​\n",
        "​(m. 2010; div. 2012)​\n",
        "​\n",
        "​(m. 2013; div. 2016)\n",
        "'''"
      ]
    },
    {
      "cell_type": "code",
      "execution_count": null,
      "metadata": {
        "id": "NiuHmCb6a18q",
        "outputId": "48adc455-3408-427a-8e2e-e85bd55c0cc6"
      },
      "outputs": [
        {
          "data": {
            "text/plain": [
              "'50'"
            ]
          },
          "execution_count": 71,
          "metadata": {},
          "output_type": "execute_result"
        }
      ],
      "source": [
        "get_pattern_match(r'age (\\d+)', text)"
      ]
    },
    {
      "cell_type": "code",
      "execution_count": null,
      "metadata": {
        "id": "UzV4xFyma18q",
        "outputId": "33285bdf-1ef1-49e8-df28-23970c7e84b7"
      },
      "outputs": [
        {
          "data": {
            "text/plain": [
              "'Elon Reeve Musk'"
            ]
          },
          "execution_count": 73,
          "metadata": {},
          "output_type": "execute_result"
        }
      ],
      "source": [
        "get_pattern_match(r'Born(.*)\\n', text).strip()"
      ]
    },
    {
      "cell_type": "code",
      "execution_count": null,
      "metadata": {
        "id": "OsEQASNBa18q",
        "outputId": "a8bc46a8-317a-4c4a-86b6-98fafd3100dc"
      },
      "outputs": [
        {
          "data": {
            "text/plain": [
              "'June 28, 1971'"
            ]
          },
          "execution_count": 74,
          "metadata": {},
          "output_type": "execute_result"
        }
      ],
      "source": [
        "get_pattern_match(r'Born.*\\n(.*)\\(age', text).strip()"
      ]
    },
    {
      "cell_type": "code",
      "execution_count": null,
      "metadata": {
        "id": "jcS7EC5ta18q",
        "outputId": "da518fff-3e00-4f13-dbde-2354add2fddd"
      },
      "outputs": [
        {
          "data": {
            "text/plain": [
              "'Pretoria, Transvaal, South Africa'"
            ]
          },
          "execution_count": 75,
          "metadata": {},
          "output_type": "execute_result"
        }
      ],
      "source": [
        "get_pattern_match(r'\\(age.*\\n(.*)', text)"
      ]
    },
    {
      "cell_type": "code",
      "execution_count": null,
      "metadata": {
        "id": "w7MVKpyqa18q"
      },
      "outputs": [],
      "source": [
        "def extract_personal_information(text):\n",
        "    age = get_pattern_match('age (\\d+)', text)\n",
        "    full_name = get_pattern_match('Born(.*)\\n', text)\n",
        "    birth_date = get_pattern_match('Born.*\\n(.*)\\(age', text)\n",
        "    birth_place = get_pattern_match('\\(age.*\\n(.*)', text)\n",
        "    return {\n",
        "        'age': int(age),\n",
        "        'name': full_name.strip(),\n",
        "        'birth_date': birth_date.strip(),\n",
        "        'birth_place': birth_place.strip()\n",
        "    }"
      ]
    },
    {
      "cell_type": "code",
      "execution_count": null,
      "metadata": {
        "id": "f58z_nVba18r",
        "outputId": "a98b7e86-e600-4b22-869d-c3ba79f387a1"
      },
      "outputs": [
        {
          "data": {
            "text/plain": [
              "{'age': 50,\n",
              " 'name': 'Elon Reeve Musk',\n",
              " 'birth_date': 'June 28, 1971',\n",
              " 'birth_place': 'Pretoria, Transvaal, South Africa'}"
            ]
          },
          "execution_count": 79,
          "metadata": {},
          "output_type": "execute_result"
        }
      ],
      "source": [
        "extract_personal_information(text)"
      ]
    },
    {
      "cell_type": "code",
      "execution_count": null,
      "metadata": {
        "id": "7DWx0Xula18r"
      },
      "outputs": [],
      "source": [
        "text = '''\n",
        "Born\tMukesh Dhirubhai Ambani\n",
        "19 April 1957 (age 64)\n",
        "Aden, Colony of Aden\n",
        "(present-day Yemen)[1][2]\n",
        "Nationality\tIndian\n",
        "Alma mater\n",
        "St. Xavier's College, Mumbai\n",
        "Institute of Chemical Technology (B.E.)\n",
        "Stanford University (drop-out)\n",
        "Occupation\tChairman and MD, Reliance Industries\n",
        "Spouse(s)\tNita Ambani ​(m. 1985)​[3]\n",
        "Children\t3\n",
        "Parent(s)\n",
        "Dhirubhai Ambani (father)\n",
        "Kokilaben Ambani (mother)\n",
        "Relatives\tAnil Ambani (brother)\n",
        "Tina Ambani (sister-in-law)\n",
        "'''"
      ]
    },
    {
      "cell_type": "code",
      "execution_count": null,
      "metadata": {
        "scrolled": true,
        "id": "iU2gS2WLa18r",
        "outputId": "77b27325-cf5a-4a54-dc72-1861d4de693d"
      },
      "outputs": [
        {
          "data": {
            "text/plain": [
              "{'age': 64,\n",
              " 'name': 'Mukesh Dhirubhai Ambani',\n",
              " 'birth_date': '19 April 1957',\n",
              " 'birth_place': 'Aden, Colony of Aden'}"
            ]
          },
          "execution_count": 81,
          "metadata": {},
          "output_type": "execute_result"
        }
      ],
      "source": [
        "extract_personal_information(text)"
      ]
    }
  ],
  "metadata": {
    "kernelspec": {
      "display_name": "Python 3",
      "language": "python",
      "name": "python3"
    },
    "language_info": {
      "codemirror_mode": {
        "name": "ipython",
        "version": 3
      },
      "file_extension": ".py",
      "mimetype": "text/x-python",
      "name": "python",
      "nbconvert_exporter": "python",
      "pygments_lexer": "ipython3",
      "version": "3.8.5"
    },
    "colab": {
      "provenance": [],
      "include_colab_link": true
    }
  },
  "nbformat": 4,
  "nbformat_minor": 0
}
