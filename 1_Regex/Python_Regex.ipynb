{
  "nbformat": 4,
  "nbformat_minor": 0,
  "metadata": {
    "colab": {
      "provenance": [],
      "authorship_tag": "ABX9TyN2xy26W+Emh0u7wjIWlMhq",
      "include_colab_link": true
    },
    "kernelspec": {
      "name": "python3",
      "display_name": "Python 3"
    },
    "language_info": {
      "name": "python"
    }
  },
  "cells": [
    {
      "cell_type": "markdown",
      "metadata": {
        "id": "view-in-github",
        "colab_type": "text"
      },
      "source": [
        "<a href=\"https://colab.research.google.com/github/kanakesh2006/Natural_Language_Processing/blob/main/1_Regex/Python_Regex.ipynb\" target=\"_parent\"><img src=\"https://colab.research.google.com/assets/colab-badge.svg\" alt=\"Open In Colab\"/></a>"
      ]
    },
    {
      "cell_type": "markdown",
      "source": [
        "Try out : [Regex Platform](https://regex101.com/)"
      ],
      "metadata": {
        "id": "bYHVog84SQF1"
      }
    },
    {
      "cell_type": "code",
      "execution_count": 1,
      "metadata": {
        "id": "nYf9EjlOFT6C"
      },
      "outputs": [],
      "source": [
        "import re"
      ]
    },
    {
      "cell_type": "markdown",
      "source": [
        "### **Extract phone numbers**"
      ],
      "metadata": {
        "id": "TdgYlNH9NKYq"
      }
    },
    {
      "cell_type": "code",
      "source": [
        "text='''\n",
        "Elon musk's phone number is 9991116666, call him if you have any questions on dodgecoin. Tesla's revenue is 40 billion\n",
        "Tesla's CFO number (999)-333-7777\n",
        "'''\n",
        "pattern = '\\(\\d{3}\\)-\\d{3}-\\d{4}|\\d{10}'\n",
        "\n",
        "matches = re.findall(pattern, text)\n",
        "matches"
      ],
      "metadata": {
        "colab": {
          "base_uri": "https://localhost:8080/"
        },
        "id": "HccNtBIGGkkk",
        "outputId": "5fbd1725-aac8-43fb-88a8-e0a6a99f8476"
      },
      "execution_count": 2,
      "outputs": [
        {
          "output_type": "stream",
          "name": "stderr",
          "text": [
            "<>:5: SyntaxWarning: invalid escape sequence '\\('\n",
            "<>:5: SyntaxWarning: invalid escape sequence '\\('\n",
            "/tmp/ipython-input-3719604279.py:5: SyntaxWarning: invalid escape sequence '\\('\n",
            "  pattern = '\\(\\d{3}\\)-\\d{3}-\\d{4}|\\d{10}'\n"
          ]
        },
        {
          "output_type": "execute_result",
          "data": {
            "text/plain": [
              "['9991116666', '(999)-333-7777']"
            ]
          },
          "metadata": {},
          "execution_count": 2
        }
      ]
    },
    {
      "cell_type": "markdown",
      "source": [
        "### **Extract Note Titles**"
      ],
      "metadata": {
        "id": "KTiHIrl3NGNC"
      }
    },
    {
      "cell_type": "code",
      "source": [
        "\n",
        "text = '''\n",
        "Note 1 - Overview\n",
        "Tesla, Inc. (“Tesla”, the “Company”, “we”, “us” or “our”) was incorporated in the State of Delaware on July 1, 2003. We design, develop, manufacture and sell high-performance fully electric vehicles and design, manufacture, install and sell solar energy generation and energy storage\n",
        "products. Our Chief Executive Officer, as the chief operating decision maker (“CODM”), organizes our company, manages resource allocations and measures performance among two operating and reportable segments: (i) automotive and (ii) energy generation and storage.\n",
        "Beginning in the first quarter of 2021, there has been a trend in many parts of the world of increasing availability and administration of vaccines\n",
        "against COVID-19, as well as an easing of restrictions on social, business, travel and government activities and functions. On the other hand, infection\n",
        "rates and regulations continue to fluctuate in various regions and there are ongoing global impacts resulting from the pandemic, including challenges\n",
        "and increases in costs for logistics and supply chains, such as increased port congestion, intermittent supplier delays and a shortfall of semiconductor\n",
        "supply. We have also previously been affected by temporary manufacturing closures, employment and compensation adjustments and impediments to\n",
        "administrative activities supporting our product deliveries and deployments.\n",
        "Note 2 - Summary of Significant Accounting Policies\n",
        "Unaudited Interim Financial Statements\n",
        "The consolidated balance sheet as of September 30, 2021, the consolidated statements of operations, the consolidated statements of\n",
        "comprehensive income, the consolidated statements of redeemable noncontrolling interests and equity for the three and nine months ended September\n",
        "30, 2021 and 2020 and the consolidated statements of cash flows for the nine months ended September 30, 2021 and 2020, as well as other information\n",
        "disclosed in the accompanying notes, are unaudited. The consolidated balance sheet as of December 31, 2020 was derived from the audited\n",
        "consolidated financial statements as of that date. The interim consolidated financial statements and the accompanying notes should be read in\n",
        "conjunction with the annual consolidated financial statements and the accompanying notes contained in our Annual Report on Form 10-K for the year\n",
        "ended December 31, 2020.\n",
        "'''"
      ],
      "metadata": {
        "id": "JjNIkbqSHDsO"
      },
      "execution_count": 3,
      "outputs": []
    },
    {
      "cell_type": "code",
      "source": [
        "pattern = 'Note \\d - ([^\\n]*)'\n",
        "matches = re.findall(pattern, text)\n",
        "matches"
      ],
      "metadata": {
        "colab": {
          "base_uri": "https://localhost:8080/"
        },
        "id": "fN5E2OSuJ9qu",
        "outputId": "ac1d8626-4049-4c6c-f337-48882c423670"
      },
      "execution_count": 4,
      "outputs": [
        {
          "output_type": "stream",
          "name": "stderr",
          "text": [
            "<>:1: SyntaxWarning: invalid escape sequence '\\d'\n",
            "<>:1: SyntaxWarning: invalid escape sequence '\\d'\n",
            "/tmp/ipython-input-3961804673.py:1: SyntaxWarning: invalid escape sequence '\\d'\n",
            "  pattern = 'Note \\d - ([^\\n]*)'\n"
          ]
        },
        {
          "output_type": "execute_result",
          "data": {
            "text/plain": [
              "['Overview', 'Summary of Significant Accounting Policies']"
            ]
          },
          "metadata": {},
          "execution_count": 4
        }
      ]
    },
    {
      "cell_type": "markdown",
      "source": [
        "### **Extract financial periods from a company's financial reporting**"
      ],
      "metadata": {
        "id": "sXqOJs5FM5KG"
      }
    },
    {
      "cell_type": "code",
      "source": [
        "text = '''\n",
        "The gross cost of operating lease vehicles in FY2021 Q1 was $4.85 billion.\n",
        "In previous quarter i.e. FY2020 Q4 it was $3 billion.\n",
        "'''\n",
        "\n",
        "pattern = 'FY(\\d{4} Q[1-4])'\n",
        "matches = re.findall(pattern, text)\n",
        "matches"
      ],
      "metadata": {
        "colab": {
          "base_uri": "https://localhost:8080/"
        },
        "id": "dvrCZQZqKVjY",
        "outputId": "8a3a0190-448e-4c54-cb08-58b3910aab1d"
      },
      "execution_count": 5,
      "outputs": [
        {
          "output_type": "stream",
          "name": "stderr",
          "text": [
            "<>:6: SyntaxWarning: invalid escape sequence '\\d'\n",
            "<>:6: SyntaxWarning: invalid escape sequence '\\d'\n",
            "/tmp/ipython-input-1785337517.py:6: SyntaxWarning: invalid escape sequence '\\d'\n",
            "  pattern = 'FY(\\d{4} Q[1-4])'\n"
          ]
        },
        {
          "output_type": "execute_result",
          "data": {
            "text/plain": [
              "['2021 Q1', '2020 Q4']"
            ]
          },
          "metadata": {},
          "execution_count": 5
        }
      ]
    },
    {
      "cell_type": "markdown",
      "source": [
        "#### **Case insensitive pattern match using flags**"
      ],
      "metadata": {
        "id": "VcmERszZOptA"
      }
    },
    {
      "cell_type": "code",
      "source": [
        "text = '''\n",
        "The gross cost of operating lease vehicles in FY2021 Q1 was $4.85 billion.\n",
        "In previous quarter i.e. fy2020 Q4 it was $3 billion.\n",
        "'''\n",
        "\n",
        "pattern = 'FY\\d{4} Q[1-4]'\n",
        "\n",
        "matches = re.findall(pattern, text, flags=re.IGNORECASE)\n",
        "matches"
      ],
      "metadata": {
        "colab": {
          "base_uri": "https://localhost:8080/"
        },
        "id": "Rd46fVDsOkhf",
        "outputId": "c92bcc9b-5069-4bb1-dcd2-3e4af07c5180"
      },
      "execution_count": 6,
      "outputs": [
        {
          "output_type": "stream",
          "name": "stderr",
          "text": [
            "<>:6: SyntaxWarning: invalid escape sequence '\\d'\n",
            "<>:6: SyntaxWarning: invalid escape sequence '\\d'\n",
            "/tmp/ipython-input-1148992528.py:6: SyntaxWarning: invalid escape sequence '\\d'\n",
            "  pattern = 'FY\\d{4} Q[1-4]'\n"
          ]
        },
        {
          "output_type": "execute_result",
          "data": {
            "text/plain": [
              "['FY2021 Q1', 'fy2020 Q4']"
            ]
          },
          "metadata": {},
          "execution_count": 6
        }
      ]
    },
    {
      "cell_type": "markdown",
      "source": [
        "### **Extract only financial numbers**"
      ],
      "metadata": {
        "id": "vKJa33K1Ox27"
      }
    },
    {
      "cell_type": "code",
      "source": [
        "\n",
        "text = '''\n",
        "Tesla's gross cost of operating lease vehicles in FY2021 Q1 was $4.85 billion.\n",
        "In previous quarter i.e. FY2020 Q4 it was $3 billion.\n",
        "'''\n",
        "\n",
        "pattern = '\\$([0-9\\.]+)'\n",
        "matches = re.findall(pattern, text)\n",
        "matches"
      ],
      "metadata": {
        "colab": {
          "base_uri": "https://localhost:8080/"
        },
        "id": "YL8kTj95O3YJ",
        "outputId": "4593208c-b1a0-433f-8e5a-a14fc7f74003"
      },
      "execution_count": 7,
      "outputs": [
        {
          "output_type": "stream",
          "name": "stderr",
          "text": [
            "<>:6: SyntaxWarning: invalid escape sequence '\\$'\n",
            "<>:6: SyntaxWarning: invalid escape sequence '\\$'\n",
            "/tmp/ipython-input-3786316816.py:6: SyntaxWarning: invalid escape sequence '\\$'\n",
            "  pattern = '\\$([0-9\\.]+)'\n"
          ]
        },
        {
          "output_type": "execute_result",
          "data": {
            "text/plain": [
              "['4.85', '3']"
            ]
          },
          "metadata": {},
          "execution_count": 7
        }
      ]
    },
    {
      "cell_type": "markdown",
      "source": [
        "### **Extract periods and financial numbers both**"
      ],
      "metadata": {
        "id": "yNBAM5MFP_L5"
      }
    },
    {
      "cell_type": "code",
      "source": [
        "text = '''\n",
        "Tesla's gross cost of operating lease vehicles in FY2021 Q1 was $4.85 billion.\n",
        "In previous quarter i.e. FY2020 Q4 it was $3 billion.\n",
        "'''\n",
        "\n",
        "pattern = 'FY(\\d{4} Q[1-4])[^\\$]+\\$([0-9\\.]+)'\n",
        "\n",
        "matches = re.findall(pattern, text)\n",
        "matches"
      ],
      "metadata": {
        "colab": {
          "base_uri": "https://localhost:8080/"
        },
        "id": "PxD8dCrqP8EW",
        "outputId": "c029f901-c2c0-4977-9781-579f353143a0"
      },
      "execution_count": 8,
      "outputs": [
        {
          "output_type": "stream",
          "name": "stderr",
          "text": [
            "<>:6: SyntaxWarning: invalid escape sequence '\\d'\n",
            "<>:6: SyntaxWarning: invalid escape sequence '\\d'\n",
            "/tmp/ipython-input-601010443.py:6: SyntaxWarning: invalid escape sequence '\\d'\n",
            "  pattern = 'FY(\\d{4} Q[1-4])[^\\$]+\\$([0-9\\.]+)'\n"
          ]
        },
        {
          "output_type": "execute_result",
          "data": {
            "text/plain": [
              "[('2021 Q1', '4.85'), ('2020 Q4', '3')]"
            ]
          },
          "metadata": {},
          "execution_count": 8
        }
      ]
    },
    {
      "cell_type": "markdown",
      "source": [
        "### **re.search**"
      ],
      "metadata": {
        "id": "faTTF9m1R31J"
      }
    },
    {
      "cell_type": "code",
      "source": [
        "text = '''\n",
        "Tesla's gross cost of operating lease vehicles in FY2021 Q1 ljh lsj a 123 was $4.85 billion. Same number for FY2020 Q4 was $8 billion\n",
        "'''\n",
        "pattern = 'FY(\\d{4} Q[1-4])[^\\$]+\\$([0-9\\.]+)'\n",
        "\n",
        "matches = re.search(pattern, text)\n",
        "matches"
      ],
      "metadata": {
        "colab": {
          "base_uri": "https://localhost:8080/"
        },
        "id": "KY09jAPdR9J7",
        "outputId": "e76c3e77-fccd-49a8-e804-edc2e7c52c90"
      },
      "execution_count": 9,
      "outputs": [
        {
          "output_type": "stream",
          "name": "stderr",
          "text": [
            "<>:4: SyntaxWarning: invalid escape sequence '\\d'\n",
            "<>:4: SyntaxWarning: invalid escape sequence '\\d'\n",
            "/tmp/ipython-input-4169094793.py:4: SyntaxWarning: invalid escape sequence '\\d'\n",
            "  pattern = 'FY(\\d{4} Q[1-4])[^\\$]+\\$([0-9\\.]+)'\n"
          ]
        },
        {
          "output_type": "execute_result",
          "data": {
            "text/plain": [
              "<re.Match object; span=(51, 84), match='FY2021 Q1 ljh lsj a 123 was $4.85'>"
            ]
          },
          "metadata": {},
          "execution_count": 9
        }
      ]
    },
    {
      "cell_type": "code",
      "source": [
        "matches.groups()"
      ],
      "metadata": {
        "colab": {
          "base_uri": "https://localhost:8080/"
        },
        "id": "d79AGF4AR_9V",
        "outputId": "49f9a15b-a677-4c75-ff64-d16616cc3de0"
      },
      "execution_count": 10,
      "outputs": [
        {
          "output_type": "execute_result",
          "data": {
            "text/plain": [
              "('2021 Q1', '4.85')"
            ]
          },
          "metadata": {},
          "execution_count": 10
        }
      ]
    }
  ]
}