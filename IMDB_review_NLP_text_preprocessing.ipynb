{
  "metadata": {
    "kernelspec": {
      "language": "python",
      "display_name": "Python 3",
      "name": "python3"
    },
    "language_info": {
      "name": "python",
      "version": "3.11.13",
      "mimetype": "text/x-python",
      "codemirror_mode": {
        "name": "ipython",
        "version": 3
      },
      "pygments_lexer": "ipython3",
      "nbconvert_exporter": "python",
      "file_extension": ".py"
    },
    "kaggle": {
      "accelerator": "none",
      "dataSources": [
        {
          "sourceId": 320111,
          "sourceType": "datasetVersion",
          "datasetId": 134715
        }
      ],
      "dockerImageVersionId": 31089,
      "isInternetEnabled": true,
      "language": "python",
      "sourceType": "notebook",
      "isGpuEnabled": false
    },
    "colab": {
      "name": "IMDB review NLP text preprocessing",
      "provenance": [],
      "include_colab_link": true
    }
  },
  "nbformat_minor": 0,
  "nbformat": 4,
  "cells": [
    {
      "cell_type": "markdown",
      "metadata": {
        "id": "view-in-github",
        "colab_type": "text"
      },
      "source": [
        "<a href=\"https://colab.research.google.com/github/kanakesh2006/Natural_Language_Processing/blob/main/IMDB_review_NLP_text_preprocessing.ipynb\" target=\"_parent\"><img src=\"https://colab.research.google.com/assets/colab-badge.svg\" alt=\"Open In Colab\"/></a>"
      ]
    },
    {
      "source": [
        "# IMPORTANT: RUN THIS CELL IN ORDER TO IMPORT YOUR KAGGLE DATA SOURCES,\n",
        "# THEN FEEL FREE TO DELETE THIS CELL.\n",
        "# NOTE: THIS NOTEBOOK ENVIRONMENT DIFFERS FROM KAGGLE'S PYTHON\n",
        "# ENVIRONMENT SO THERE MAY BE MISSING LIBRARIES USED BY YOUR\n",
        "# NOTEBOOK.\n",
        "import kagglehub\n",
        "lakshmi25npathi_imdb_dataset_of_50k_movie_reviews_path = kagglehub.dataset_download('lakshmi25npathi/imdb-dataset-of-50k-movie-reviews')\n",
        "\n",
        "print('Data source import complete.')\n"
      ],
      "metadata": {
        "id": "j5G8oMP8bQ9z"
      },
      "cell_type": "code",
      "outputs": [],
      "execution_count": null
    },
    {
      "cell_type": "code",
      "source": [
        "# This Python 3 environment comes with many helpful analytics libraries installed\n",
        "# It is defined by the kaggle/python Docker image: https://github.com/kaggle/docker-python\n",
        "# For example, here's several helpful packages to load\n",
        "\n",
        "import numpy as np # linear algebra\n",
        "import pandas as pd # data processing, CSV file I/O (e.g. pd.read_csv)\n",
        "\n",
        "# Input data files are available in the read-only \"../input/\" directory\n",
        "# For example, running this (by clicking run or pressing Shift+Enter) will list all files under the input directory\n",
        "\n",
        "import os\n",
        "for dirname, _, filenames in os.walk('/kaggle/input'):\n",
        "    for filename in filenames:\n",
        "        print(os.path.join(dirname, filename))\n",
        "\n",
        "# You can write up to 20GB to the current directory (/kaggle/working/) that gets preserved as output when you create a version using \"Save & Run All\"\n",
        "# You can also write temporary files to /kaggle/temp/, but they won't be saved outside of the current session"
      ],
      "metadata": {
        "_uuid": "8f2839f25d086af736a60e9eeb907d3b93b6e0e5",
        "_cell_guid": "b1076dfc-b9ad-4769-8c92-a6c4dae69d19",
        "trusted": true,
        "execution": {
          "iopub.status.busy": "2025-10-07T04:00:00.842297Z",
          "iopub.execute_input": "2025-10-07T04:00:00.842618Z",
          "iopub.status.idle": "2025-10-07T04:00:03.881389Z",
          "shell.execute_reply.started": "2025-10-07T04:00:00.842594Z",
          "shell.execute_reply": "2025-10-07T04:00:03.880261Z"
        },
        "id": "RJE3qgv4bQ91",
        "outputId": "5b413868-acb7-4d2c-c745-5a75718bb19a"
      },
      "outputs": [
        {
          "name": "stdout",
          "text": "/kaggle/input/imdb-dataset-of-50k-movie-reviews/IMDB Dataset.csv\n",
          "output_type": "stream"
        }
      ],
      "execution_count": null
    },
    {
      "cell_type": "code",
      "source": [
        "df = pd.read_csv('/kaggle/input/imdb-dataset-of-50k-movie-reviews/IMDB Dataset.csv')"
      ],
      "metadata": {
        "trusted": true,
        "execution": {
          "iopub.status.busy": "2025-10-07T04:00:03.882585Z",
          "iopub.execute_input": "2025-10-07T04:00:03.88315Z",
          "iopub.status.idle": "2025-10-07T04:00:05.869533Z",
          "shell.execute_reply.started": "2025-10-07T04:00:03.883114Z",
          "shell.execute_reply": "2025-10-07T04:00:05.868375Z"
        },
        "id": "auCX5IyTbQ92"
      },
      "outputs": [],
      "execution_count": null
    },
    {
      "cell_type": "code",
      "source": [
        "df.shape"
      ],
      "metadata": {
        "trusted": true,
        "execution": {
          "iopub.status.busy": "2025-10-07T04:00:05.87243Z",
          "iopub.execute_input": "2025-10-07T04:00:05.872748Z",
          "iopub.status.idle": "2025-10-07T04:00:05.880875Z",
          "shell.execute_reply.started": "2025-10-07T04:00:05.872724Z",
          "shell.execute_reply": "2025-10-07T04:00:05.879807Z"
        },
        "id": "FonjL_ZsbQ92",
        "outputId": "2e0981c9-4010-4ce2-b38b-5b48b797fa50"
      },
      "outputs": [
        {
          "execution_count": 3,
          "output_type": "execute_result",
          "data": {
            "text/plain": "(50000, 2)"
          },
          "metadata": {}
        }
      ],
      "execution_count": null
    },
    {
      "cell_type": "code",
      "source": [
        "df.head()"
      ],
      "metadata": {
        "trusted": true,
        "execution": {
          "iopub.status.busy": "2025-10-07T04:00:05.881873Z",
          "iopub.execute_input": "2025-10-07T04:00:05.882216Z",
          "iopub.status.idle": "2025-10-07T04:00:05.967915Z",
          "shell.execute_reply.started": "2025-10-07T04:00:05.882184Z",
          "shell.execute_reply": "2025-10-07T04:00:05.966541Z"
        },
        "id": "56Lz3i1hbQ93",
        "outputId": "7452b46b-8f1a-41a7-dd60-97733fa2ddfa"
      },
      "outputs": [
        {
          "execution_count": 4,
          "output_type": "execute_result",
          "data": {
            "text/plain": "                                              review sentiment\n0  One of the other reviewers has mentioned that ...  positive\n1  A wonderful little production. <br /><br />The...  positive\n2  I thought this was a wonderful way to spend ti...  positive\n3  Basically there's a family where a little boy ...  negative\n4  Petter Mattei's \"Love in the Time of Money\" is...  positive",
            "text/html": "<div>\n<style scoped>\n    .dataframe tbody tr th:only-of-type {\n        vertical-align: middle;\n    }\n\n    .dataframe tbody tr th {\n        vertical-align: top;\n    }\n\n    .dataframe thead th {\n        text-align: right;\n    }\n</style>\n<table border=\"1\" class=\"dataframe\">\n  <thead>\n    <tr style=\"text-align: right;\">\n      <th></th>\n      <th>review</th>\n      <th>sentiment</th>\n    </tr>\n  </thead>\n  <tbody>\n    <tr>\n      <th>0</th>\n      <td>One of the other reviewers has mentioned that ...</td>\n      <td>positive</td>\n    </tr>\n    <tr>\n      <th>1</th>\n      <td>A wonderful little production. &lt;br /&gt;&lt;br /&gt;The...</td>\n      <td>positive</td>\n    </tr>\n    <tr>\n      <th>2</th>\n      <td>I thought this was a wonderful way to spend ti...</td>\n      <td>positive</td>\n    </tr>\n    <tr>\n      <th>3</th>\n      <td>Basically there's a family where a little boy ...</td>\n      <td>negative</td>\n    </tr>\n    <tr>\n      <th>4</th>\n      <td>Petter Mattei's \"Love in the Time of Money\" is...</td>\n      <td>positive</td>\n    </tr>\n  </tbody>\n</table>\n</div>"
          },
          "metadata": {}
        }
      ],
      "execution_count": null
    },
    {
      "cell_type": "code",
      "source": [
        "df['review'][3].lower()"
      ],
      "metadata": {
        "trusted": true,
        "execution": {
          "iopub.status.busy": "2025-10-07T04:00:05.969081Z",
          "iopub.execute_input": "2025-10-07T04:00:05.969445Z",
          "iopub.status.idle": "2025-10-07T04:00:05.980361Z",
          "shell.execute_reply.started": "2025-10-07T04:00:05.969412Z",
          "shell.execute_reply": "2025-10-07T04:00:05.978999Z"
        },
        "id": "0w4R48cdbQ93",
        "outputId": "fb01322b-8e2d-49e6-92d2-5fb56401c4c3"
      },
      "outputs": [
        {
          "execution_count": 5,
          "output_type": "execute_result",
          "data": {
            "text/plain": "\"basically there's a family where a little boy (jake) thinks there's a zombie in his closet & his parents are fighting all the time.<br /><br />this movie is slower than a soap opera... and suddenly, jake decides to become rambo and kill the zombie.<br /><br />ok, first of all when you're going to make a film you must decide if its a thriller or a drama! as a drama the movie is watchable. parents are divorcing & arguing like in real life. and then we have jake with his closet which totally ruins all the film! i expected to see a boogeyman similar movie, and instead i watched a drama with some meaningless thriller spots.<br /><br />3 out of 10 just for the well playing parents & descent dialogs. as for the shots with jake: just ignore them.\""
          },
          "metadata": {}
        }
      ],
      "execution_count": null
    },
    {
      "cell_type": "code",
      "source": [
        "df['review'] = df['review'].str.lower()"
      ],
      "metadata": {
        "trusted": true,
        "execution": {
          "iopub.status.busy": "2025-10-07T04:00:05.981661Z",
          "iopub.execute_input": "2025-10-07T04:00:05.982095Z",
          "iopub.status.idle": "2025-10-07T04:00:06.316095Z",
          "shell.execute_reply.started": "2025-10-07T04:00:05.982058Z",
          "shell.execute_reply": "2025-10-07T04:00:06.314972Z"
        },
        "id": "28QovT6BbQ93"
      },
      "outputs": [],
      "execution_count": null
    },
    {
      "cell_type": "code",
      "source": [
        "df"
      ],
      "metadata": {
        "trusted": true,
        "execution": {
          "iopub.status.busy": "2025-10-07T04:00:06.317237Z",
          "iopub.execute_input": "2025-10-07T04:00:06.317746Z",
          "iopub.status.idle": "2025-10-07T04:00:06.345956Z",
          "shell.execute_reply.started": "2025-10-07T04:00:06.317713Z",
          "shell.execute_reply": "2025-10-07T04:00:06.344683Z"
        },
        "id": "j8b8ABZzbQ93",
        "outputId": "386b370a-7c3f-40d6-a5c1-7690e58536ad"
      },
      "outputs": [
        {
          "execution_count": 7,
          "output_type": "execute_result",
          "data": {
            "text/plain": "                                                  review sentiment\n0      one of the other reviewers has mentioned that ...  positive\n1      a wonderful little production. <br /><br />the...  positive\n2      i thought this was a wonderful way to spend ti...  positive\n3      basically there's a family where a little boy ...  negative\n4      petter mattei's \"love in the time of money\" is...  positive\n...                                                  ...       ...\n49995  i thought this movie did a down right good job...  positive\n49996  bad plot, bad dialogue, bad acting, idiotic di...  negative\n49997  i am a catholic taught in parochial elementary...  negative\n49998  i'm going to have to disagree with the previou...  negative\n49999  no one expects the star trek movies to be high...  negative\n\n[50000 rows x 2 columns]",
            "text/html": "<div>\n<style scoped>\n    .dataframe tbody tr th:only-of-type {\n        vertical-align: middle;\n    }\n\n    .dataframe tbody tr th {\n        vertical-align: top;\n    }\n\n    .dataframe thead th {\n        text-align: right;\n    }\n</style>\n<table border=\"1\" class=\"dataframe\">\n  <thead>\n    <tr style=\"text-align: right;\">\n      <th></th>\n      <th>review</th>\n      <th>sentiment</th>\n    </tr>\n  </thead>\n  <tbody>\n    <tr>\n      <th>0</th>\n      <td>one of the other reviewers has mentioned that ...</td>\n      <td>positive</td>\n    </tr>\n    <tr>\n      <th>1</th>\n      <td>a wonderful little production. &lt;br /&gt;&lt;br /&gt;the...</td>\n      <td>positive</td>\n    </tr>\n    <tr>\n      <th>2</th>\n      <td>i thought this was a wonderful way to spend ti...</td>\n      <td>positive</td>\n    </tr>\n    <tr>\n      <th>3</th>\n      <td>basically there's a family where a little boy ...</td>\n      <td>negative</td>\n    </tr>\n    <tr>\n      <th>4</th>\n      <td>petter mattei's \"love in the time of money\" is...</td>\n      <td>positive</td>\n    </tr>\n    <tr>\n      <th>...</th>\n      <td>...</td>\n      <td>...</td>\n    </tr>\n    <tr>\n      <th>49995</th>\n      <td>i thought this movie did a down right good job...</td>\n      <td>positive</td>\n    </tr>\n    <tr>\n      <th>49996</th>\n      <td>bad plot, bad dialogue, bad acting, idiotic di...</td>\n      <td>negative</td>\n    </tr>\n    <tr>\n      <th>49997</th>\n      <td>i am a catholic taught in parochial elementary...</td>\n      <td>negative</td>\n    </tr>\n    <tr>\n      <th>49998</th>\n      <td>i'm going to have to disagree with the previou...</td>\n      <td>negative</td>\n    </tr>\n    <tr>\n      <th>49999</th>\n      <td>no one expects the star trek movies to be high...</td>\n      <td>negative</td>\n    </tr>\n  </tbody>\n</table>\n<p>50000 rows × 2 columns</p>\n</div>"
          },
          "metadata": {}
        }
      ],
      "execution_count": null
    },
    {
      "cell_type": "code",
      "source": [
        "import re\n",
        "def remove_html_tags(text):\n",
        "    pattern = re.compile('<.*?>')\n",
        "    return pattern.sub(r'', text)"
      ],
      "metadata": {
        "trusted": true,
        "execution": {
          "iopub.status.busy": "2025-10-07T04:00:06.347168Z",
          "iopub.execute_input": "2025-10-07T04:00:06.347475Z",
          "iopub.status.idle": "2025-10-07T04:00:06.380964Z",
          "shell.execute_reply.started": "2025-10-07T04:00:06.34745Z",
          "shell.execute_reply": "2025-10-07T04:00:06.379304Z"
        },
        "id": "REW1Qa1RbQ93"
      },
      "outputs": [],
      "execution_count": null
    },
    {
      "cell_type": "code",
      "source": [
        "text = \"<html><body><p> Movie 1</p><p> Actor - Aamir Khan</p><p> Click here to <a href='http://google.com'>download</a></p></body></html>\""
      ],
      "metadata": {
        "trusted": true,
        "execution": {
          "iopub.status.busy": "2025-10-07T04:00:06.386862Z",
          "iopub.execute_input": "2025-10-07T04:00:06.387564Z",
          "iopub.status.idle": "2025-10-07T04:00:06.41229Z",
          "shell.execute_reply.started": "2025-10-07T04:00:06.387517Z",
          "shell.execute_reply": "2025-10-07T04:00:06.411122Z"
        },
        "id": "zHdJMpGtbQ94"
      },
      "outputs": [],
      "execution_count": null
    },
    {
      "cell_type": "code",
      "source": [
        "remove_html_tags(text)"
      ],
      "metadata": {
        "trusted": true,
        "execution": {
          "iopub.status.busy": "2025-10-07T04:00:06.413757Z",
          "iopub.execute_input": "2025-10-07T04:00:06.414191Z",
          "iopub.status.idle": "2025-10-07T04:00:06.446199Z",
          "shell.execute_reply.started": "2025-10-07T04:00:06.414149Z",
          "shell.execute_reply": "2025-10-07T04:00:06.444925Z"
        },
        "id": "FyyO5Ov9bQ94",
        "outputId": "53ada93e-8ddf-41a5-f59f-3c007410f1ba"
      },
      "outputs": [
        {
          "execution_count": 10,
          "output_type": "execute_result",
          "data": {
            "text/plain": "' Movie 1 Actor - Aamir Khan Click here to download'"
          },
          "metadata": {}
        }
      ],
      "execution_count": null
    },
    {
      "cell_type": "code",
      "source": [
        "df['review'] = df['review'].apply(remove_html_tags)"
      ],
      "metadata": {
        "trusted": true,
        "execution": {
          "iopub.status.busy": "2025-10-07T04:00:06.447684Z",
          "iopub.execute_input": "2025-10-07T04:00:06.447999Z",
          "iopub.status.idle": "2025-10-07T04:00:06.710472Z",
          "shell.execute_reply.started": "2025-10-07T04:00:06.447977Z",
          "shell.execute_reply": "2025-10-07T04:00:06.709475Z"
        },
        "id": "x01-oFbvbQ94"
      },
      "outputs": [],
      "execution_count": null
    },
    {
      "cell_type": "code",
      "source": [
        "df['review'][5]"
      ],
      "metadata": {
        "trusted": true,
        "execution": {
          "iopub.status.busy": "2025-10-07T04:00:06.712647Z",
          "iopub.execute_input": "2025-10-07T04:00:06.712956Z",
          "iopub.status.idle": "2025-10-07T04:00:06.722838Z",
          "shell.execute_reply.started": "2025-10-07T04:00:06.712934Z",
          "shell.execute_reply": "2025-10-07T04:00:06.721618Z"
        },
        "id": "FU1iwuqubQ94",
        "outputId": "8d1668cd-326e-4d13-babf-8acf016ac4c4"
      },
      "outputs": [
        {
          "execution_count": 12,
          "output_type": "execute_result",
          "data": {
            "text/plain": "'probably my all-time favorite movie, a story of selflessness, sacrifice and dedication to a noble cause, but it\\'s not preachy or boring. it just never gets old, despite my having seen it some 15 or more times in the last 25 years. paul lukas\\' performance brings tears to my eyes, and bette davis, in one of her very few truly sympathetic roles, is a delight. the kids are, as grandma says, more like \"dressed-up midgets\" than children, but that only makes them more fun to watch. and the mother\\'s slow awakening to what\\'s happening in the world and under her own roof is believable and startling. if i had a dozen thumbs, they\\'d all be \"up\" for this movie.'"
          },
          "metadata": {}
        }
      ],
      "execution_count": null
    },
    {
      "cell_type": "code",
      "source": [
        "def remove_url(text):\n",
        "    pattern = re.compile(r'https?://\\S+|www\\.\\S+')\n",
        "    return pattern.sub(r'', text)"
      ],
      "metadata": {
        "trusted": true,
        "execution": {
          "iopub.status.busy": "2025-10-07T04:00:06.724334Z",
          "iopub.execute_input": "2025-10-07T04:00:06.724618Z",
          "iopub.status.idle": "2025-10-07T04:00:06.748021Z",
          "shell.execute_reply.started": "2025-10-07T04:00:06.724597Z",
          "shell.execute_reply": "2025-10-07T04:00:06.746858Z"
        },
        "id": "f1CT7NpqbQ95"
      },
      "outputs": [],
      "execution_count": null
    },
    {
      "cell_type": "code",
      "source": [
        "text1 = 'Check out my notebook https://www.kaggle.com/campusx/notebook8223fc1abb'\n",
        "text2 = 'Check out my notebook http://www.kaggle.com/campusx/notebook8223fc1abb'\n",
        "text3 = 'Google search here www.google.com'\n",
        "text4 = 'For notebook click https://www.kaggle.com/campusx/notebook8223fc1abb to search check www.google.com'"
      ],
      "metadata": {
        "trusted": true,
        "execution": {
          "iopub.status.busy": "2025-10-07T04:00:06.749275Z",
          "iopub.execute_input": "2025-10-07T04:00:06.74971Z",
          "iopub.status.idle": "2025-10-07T04:00:06.77301Z",
          "shell.execute_reply.started": "2025-10-07T04:00:06.749677Z",
          "shell.execute_reply": "2025-10-07T04:00:06.771768Z"
        },
        "id": "EMdRGnOebQ95"
      },
      "outputs": [],
      "execution_count": null
    },
    {
      "cell_type": "code",
      "source": [
        "remove_url(text4)"
      ],
      "metadata": {
        "trusted": true,
        "execution": {
          "iopub.status.busy": "2025-10-07T04:00:06.774058Z",
          "iopub.execute_input": "2025-10-07T04:00:06.774404Z",
          "iopub.status.idle": "2025-10-07T04:00:06.796102Z",
          "shell.execute_reply.started": "2025-10-07T04:00:06.774373Z",
          "shell.execute_reply": "2025-10-07T04:00:06.795086Z"
        },
        "id": "THLqfodhbQ95",
        "outputId": "84e6836d-95e0-46a4-c49b-44c0ccd42d18"
      },
      "outputs": [
        {
          "execution_count": 15,
          "output_type": "execute_result",
          "data": {
            "text/plain": "'For notebook click  to search check '"
          },
          "metadata": {}
        }
      ],
      "execution_count": null
    },
    {
      "cell_type": "code",
      "source": [
        "import string,time\n",
        "string.punctuation"
      ],
      "metadata": {
        "trusted": true,
        "execution": {
          "iopub.status.busy": "2025-10-07T04:00:06.797389Z",
          "iopub.execute_input": "2025-10-07T04:00:06.797727Z",
          "iopub.status.idle": "2025-10-07T04:00:06.823142Z",
          "shell.execute_reply.started": "2025-10-07T04:00:06.797702Z",
          "shell.execute_reply": "2025-10-07T04:00:06.821737Z"
        },
        "id": "gpQLGedjbQ95",
        "outputId": "86268faf-deb5-4699-d479-946d468906d2"
      },
      "outputs": [
        {
          "execution_count": 16,
          "output_type": "execute_result",
          "data": {
            "text/plain": "'!\"#$%&\\'()*+,-./:;<=>?@[\\\\]^_`{|}~'"
          },
          "metadata": {}
        }
      ],
      "execution_count": null
    },
    {
      "cell_type": "code",
      "source": [
        "exclude = string.punctuation"
      ],
      "metadata": {
        "trusted": true,
        "execution": {
          "iopub.status.busy": "2025-10-07T04:00:06.824448Z",
          "iopub.execute_input": "2025-10-07T04:00:06.824773Z",
          "iopub.status.idle": "2025-10-07T04:00:06.847407Z",
          "shell.execute_reply.started": "2025-10-07T04:00:06.824743Z",
          "shell.execute_reply": "2025-10-07T04:00:06.84621Z"
        },
        "id": "QhXoGxCxbQ95"
      },
      "outputs": [],
      "execution_count": null
    },
    {
      "cell_type": "code",
      "source": [
        "def remove_punc(text):\n",
        "    for char in exclude:\n",
        "        text = text.replace(char,'')\n",
        "    return text"
      ],
      "metadata": {
        "trusted": true,
        "execution": {
          "iopub.status.busy": "2025-10-07T04:00:06.848654Z",
          "iopub.execute_input": "2025-10-07T04:00:06.849012Z",
          "iopub.status.idle": "2025-10-07T04:00:06.872222Z",
          "shell.execute_reply.started": "2025-10-07T04:00:06.848982Z",
          "shell.execute_reply": "2025-10-07T04:00:06.870844Z"
        },
        "id": "GTHIXHKZbQ95"
      },
      "outputs": [],
      "execution_count": null
    },
    {
      "cell_type": "code",
      "source": [
        "text = 'string. With. Punctuation?'"
      ],
      "metadata": {
        "trusted": true,
        "execution": {
          "iopub.status.busy": "2025-10-07T04:00:06.8731Z",
          "iopub.execute_input": "2025-10-07T04:00:06.873429Z",
          "iopub.status.idle": "2025-10-07T04:00:06.907711Z",
          "shell.execute_reply.started": "2025-10-07T04:00:06.8734Z",
          "shell.execute_reply": "2025-10-07T04:00:06.906463Z"
        },
        "id": "osNQ3_2SbQ95"
      },
      "outputs": [],
      "execution_count": null
    },
    {
      "cell_type": "code",
      "source": [
        "start = time.time()\n",
        "print(remove_punc(text))\n",
        "time1 = time.time() - start\n",
        "print(time1*50000)"
      ],
      "metadata": {
        "trusted": true,
        "execution": {
          "iopub.status.busy": "2025-10-07T04:00:06.908834Z",
          "iopub.execute_input": "2025-10-07T04:00:06.90922Z",
          "iopub.status.idle": "2025-10-07T04:00:06.930971Z",
          "shell.execute_reply.started": "2025-10-07T04:00:06.909191Z",
          "shell.execute_reply": "2025-10-07T04:00:06.929927Z"
        },
        "id": "NvWwhg2RbQ95",
        "outputId": "8524f8eb-cfba-4409-cd02-bce5c4659d45"
      },
      "outputs": [
        {
          "name": "stdout",
          "text": "string With Punctuation\n15.628337860107422\n",
          "output_type": "stream"
        }
      ],
      "execution_count": null
    },
    {
      "cell_type": "code",
      "source": [
        "def remove_punc1(text):\n",
        "    return text.translate(str.maketrans('','',exclude))"
      ],
      "metadata": {
        "trusted": true,
        "execution": {
          "iopub.status.busy": "2025-10-07T04:00:06.932134Z",
          "iopub.execute_input": "2025-10-07T04:00:06.932507Z",
          "iopub.status.idle": "2025-10-07T04:00:06.961156Z",
          "shell.execute_reply.started": "2025-10-07T04:00:06.932474Z",
          "shell.execute_reply": "2025-10-07T04:00:06.960105Z"
        },
        "id": "8pgb-uOIbQ96"
      },
      "outputs": [],
      "execution_count": null
    },
    {
      "cell_type": "code",
      "source": [
        "start = time.time()\n",
        "remove_punc1(text)\n",
        "time2 = time.time() - start\n",
        "print(time2*50000)"
      ],
      "metadata": {
        "trusted": true,
        "execution": {
          "iopub.status.busy": "2025-10-07T04:00:06.962819Z",
          "iopub.execute_input": "2025-10-07T04:00:06.96432Z",
          "iopub.status.idle": "2025-10-07T04:00:06.987445Z",
          "shell.execute_reply.started": "2025-10-07T04:00:06.964281Z",
          "shell.execute_reply": "2025-10-07T04:00:06.985733Z"
        },
        "id": "wxCocGlDbQ96",
        "outputId": "7b49ff58-13ba-4bbc-df62-bc4e301c42ad"
      },
      "outputs": [
        {
          "name": "stdout",
          "text": "11.372566223144531\n",
          "output_type": "stream"
        }
      ],
      "execution_count": null
    },
    {
      "cell_type": "code",
      "source": [
        "time1/time2"
      ],
      "metadata": {
        "trusted": true,
        "execution": {
          "iopub.status.busy": "2025-10-07T04:00:06.988905Z",
          "iopub.execute_input": "2025-10-07T04:00:06.990328Z",
          "iopub.status.idle": "2025-10-07T04:00:07.02095Z",
          "shell.execute_reply.started": "2025-10-07T04:00:06.990286Z",
          "shell.execute_reply": "2025-10-07T04:00:07.018549Z"
        },
        "id": "yjX0td7IbQ96",
        "outputId": "64ad0e73-fba9-4550-f769-266c04042af4"
      },
      "outputs": [
        {
          "execution_count": 23,
          "output_type": "execute_result",
          "data": {
            "text/plain": "1.3742138364779874"
          },
          "metadata": {}
        }
      ],
      "execution_count": null
    },
    {
      "cell_type": "code",
      "source": [
        "df['review'][5]"
      ],
      "metadata": {
        "trusted": true,
        "execution": {
          "iopub.status.busy": "2025-10-07T04:00:07.023403Z",
          "iopub.execute_input": "2025-10-07T04:00:07.024007Z",
          "iopub.status.idle": "2025-10-07T04:00:07.050354Z",
          "shell.execute_reply.started": "2025-10-07T04:00:07.023967Z",
          "shell.execute_reply": "2025-10-07T04:00:07.049074Z"
        },
        "id": "MibvYHtMbQ96",
        "outputId": "e49295b3-7387-4553-a7ae-d1c02473e513"
      },
      "outputs": [
        {
          "execution_count": 24,
          "output_type": "execute_result",
          "data": {
            "text/plain": "'probably my all-time favorite movie, a story of selflessness, sacrifice and dedication to a noble cause, but it\\'s not preachy or boring. it just never gets old, despite my having seen it some 15 or more times in the last 25 years. paul lukas\\' performance brings tears to my eyes, and bette davis, in one of her very few truly sympathetic roles, is a delight. the kids are, as grandma says, more like \"dressed-up midgets\" than children, but that only makes them more fun to watch. and the mother\\'s slow awakening to what\\'s happening in the world and under her own roof is believable and startling. if i had a dozen thumbs, they\\'d all be \"up\" for this movie.'"
          },
          "metadata": {}
        }
      ],
      "execution_count": null
    },
    {
      "cell_type": "code",
      "source": [
        "remove_punc1(df['review'][5])"
      ],
      "metadata": {
        "trusted": true,
        "execution": {
          "iopub.status.busy": "2025-10-07T04:00:07.051407Z",
          "iopub.execute_input": "2025-10-07T04:00:07.05183Z",
          "iopub.status.idle": "2025-10-07T04:00:07.081367Z",
          "shell.execute_reply.started": "2025-10-07T04:00:07.05179Z",
          "shell.execute_reply": "2025-10-07T04:00:07.080142Z"
        },
        "id": "r_qryXF4bQ96",
        "outputId": "fb606d78-5fd3-4c8e-e94c-5d7ffaff404b"
      },
      "outputs": [
        {
          "execution_count": 25,
          "output_type": "execute_result",
          "data": {
            "text/plain": "'probably my alltime favorite movie a story of selflessness sacrifice and dedication to a noble cause but its not preachy or boring it just never gets old despite my having seen it some 15 or more times in the last 25 years paul lukas performance brings tears to my eyes and bette davis in one of her very few truly sympathetic roles is a delight the kids are as grandma says more like dressedup midgets than children but that only makes them more fun to watch and the mothers slow awakening to whats happening in the world and under her own roof is believable and startling if i had a dozen thumbs theyd all be up for this movie'"
          },
          "metadata": {}
        }
      ],
      "execution_count": null
    },
    {
      "cell_type": "code",
      "source": [
        "chat_text = \"\"\"A3=Anytime, Anywhere, Anyplace\n",
        "ADIH=Another Day In Hell\n",
        "AFK=Away From Keyboard\n",
        "AFAIK=As Far As I Know\n",
        "ASAP=As Soon As Possible\n",
        "ASL=Age, Sex, Location\n",
        "ATK=At The Keyboard\n",
        "ATM=At The Moment\n",
        "BAE=Before Anyone Else\n",
        "BAK=Back At Keyboard\n",
        "BBL=Be Back Later\n",
        "BBS=Be Back Soon\n",
        "BFN=Bye For Now\n",
        "B4N=Bye For Now\n",
        "BRB=Be Right Back\n",
        "BRUH=Bro\n",
        "BRT=Be Right There\n",
        "BSAAW=Big Smile And A Wink\n",
        "BTW=By The Way\n",
        "BWL=Bursting With Laughter\n",
        "CSL=Can’t Stop Laughing\n",
        "CU=See You\n",
        "CUL8R=See You Later\n",
        "CYA=See You\n",
        "DM=Direct Message\n",
        "FAQ=Frequently Asked Questions\n",
        "FC=Fingers Crossed\n",
        "FIMH=Forever In My Heart\n",
        "FOMO=Fear Of Missing Out\n",
        "FR=For Real\n",
        "FWIW=For What It's Worth\n",
        "FYP=For You Page\n",
        "FYI=For Your Information\n",
        "G9=Genius\n",
        "GAL=Get A Life\n",
        "GG=Good Game\n",
        "GMTA=Great Minds Think Alike\n",
        "GN=Good Night\n",
        "GOAT=Greatest Of All Time\n",
        "GR8=Great!\n",
        "HBD=Happy Birthday\n",
        "IC=I See\n",
        "ICQ=I Seek You\n",
        "IDC=I Don’t Care\n",
        "IDK=I Don't Know\n",
        "IFYP=I Feel Your Pain\n",
        "ILU=I Love You\n",
        "ILY=I Love You\n",
        "IMHO=In My Honest/Humble Opinion\n",
        "IMU=I Miss You\n",
        "IMO=In My Opinion\n",
        "IOW=In Other Words\n",
        "IRL=In Real Life\n",
        "IYKYK=If You Know, You Know\n",
        "JK=Just Kidding\n",
        "KISS=Keep It Simple, Stupid\n",
        "L=Loss\n",
        "L8R=Later\n",
        "LDR=Long Distance Relationship\n",
        "LMK=Let Me Know\n",
        "LMAO=Laughing My A** Off\n",
        "LOL=Laughing Out Loud\n",
        "LTNS=Long Time No See\n",
        "M8=Mate\n",
        "MFW=My Face When\n",
        "MID=Mediocre\n",
        "MRW=My Reaction When\n",
        "MTE=My Thoughts Exactly\n",
        "NVM=Never Mind\n",
        "NRN=No Reply Necessary\n",
        "NPC=Non-Player Character\n",
        "OIC=Oh I See\n",
        "OP=Overpowered\n",
        "PITA=Pain In The A**\n",
        "POV=Point Of View\n",
        "PRT=Party\n",
        "PRW=Parents Are Watching\n",
        "ROFL=Rolling On The Floor Laughing\n",
        "ROFLOL=Rolling On The Floor Laughing Out Loud\n",
        "ROTFLMAO=Rolling On The Floor Laughing My A** Off\n",
        "RN=Right Now\n",
        "SK8=Skate\n",
        "STATS=Your Sex And Age\n",
        "SUS=Suspicious\n",
        "TBH=To Be Honest\n",
        "TFW=That Feeling When\n",
        "THX=Thank You\n",
        "TIME=Tears In My Eyes\n",
        "TLDR=Too Long, Didn’t Read\n",
        "TNTL=Trying Not To Laugh\n",
        "TTFN=Ta-Ta For Now!\n",
        "TTYL=Talk To You Later\n",
        "U=You\n",
        "U2=You Too\n",
        "U4E=Yours For Ever\n",
        "W=Win\n",
        "W8=Wait...\n",
        "WB=Welcome Back\n",
        "WTF=What The F**k\n",
        "WTG=Way To Go!\n",
        "WUF=Where Are You From?\n",
        "WYD=What You Doing?\n",
        "WYWH=Wish You Were Here\n",
        "ZZZ=Sleeping, Bored, Tired\"\"\"\n",
        "\n",
        "chat_words = {}\n",
        "\n",
        "# Split the large string by lines to get each key-value pair\n",
        "lines = chat_text.strip().split('\\n')\n",
        "\n",
        "# Process each line\n",
        "for line in lines:\n",
        "    try:\n",
        "        # Split the line by the first occurrence of '='\n",
        "        key, value = line.split('=', 1)\n",
        "        # Strip any whitespace from the key and value and add to the dictionary\n",
        "        chat_words[key.strip()] = value.strip()\n",
        "    except ValueError:\n",
        "        # Handle any lines that don't contain a valid key-value pair\n",
        "        print(f\"Skipping malformed line: {line}\")\n",
        "\n",
        "# Print the resulting dictionary to verify\n",
        "import pprint\n",
        "pprint.pprint(chat_words)\n"
      ],
      "metadata": {
        "trusted": true,
        "execution": {
          "iopub.status.busy": "2025-10-07T04:00:07.082598Z",
          "iopub.execute_input": "2025-10-07T04:00:07.082962Z",
          "iopub.status.idle": "2025-10-07T04:00:07.114944Z",
          "shell.execute_reply.started": "2025-10-07T04:00:07.082933Z",
          "shell.execute_reply": "2025-10-07T04:00:07.113379Z"
        },
        "id": "uTkOeQfObQ96",
        "outputId": "dda870a9-a3f6-45f2-a3c4-5cc83a6aaf04"
      },
      "outputs": [
        {
          "name": "stdout",
          "text": "{'A3': 'Anytime, Anywhere, Anyplace',\n 'ADIH': 'Another Day In Hell',\n 'AFAIK': 'As Far As I Know',\n 'AFK': 'Away From Keyboard',\n 'ASAP': 'As Soon As Possible',\n 'ASL': 'Age, Sex, Location',\n 'ATK': 'At The Keyboard',\n 'ATM': 'At The Moment',\n 'B4N': 'Bye For Now',\n 'BAE': 'Before Anyone Else',\n 'BAK': 'Back At Keyboard',\n 'BBL': 'Be Back Later',\n 'BBS': 'Be Back Soon',\n 'BFN': 'Bye For Now',\n 'BRB': 'Be Right Back',\n 'BRT': 'Be Right There',\n 'BRUH': 'Bro',\n 'BSAAW': 'Big Smile And A Wink',\n 'BTW': 'By The Way',\n 'BWL': 'Bursting With Laughter',\n 'CSL': 'Can’t Stop Laughing',\n 'CU': 'See You',\n 'CUL8R': 'See You Later',\n 'CYA': 'See You',\n 'DM': 'Direct Message',\n 'FAQ': 'Frequently Asked Questions',\n 'FC': 'Fingers Crossed',\n 'FIMH': 'Forever In My Heart',\n 'FOMO': 'Fear Of Missing Out',\n 'FR': 'For Real',\n 'FWIW': \"For What It's Worth\",\n 'FYI': 'For Your Information',\n 'FYP': 'For You Page',\n 'G9': 'Genius',\n 'GAL': 'Get A Life',\n 'GG': 'Good Game',\n 'GMTA': 'Great Minds Think Alike',\n 'GN': 'Good Night',\n 'GOAT': 'Greatest Of All Time',\n 'GR8': 'Great!',\n 'HBD': 'Happy Birthday',\n 'IC': 'I See',\n 'ICQ': 'I Seek You',\n 'IDC': 'I Don’t Care',\n 'IDK': \"I Don't Know\",\n 'IFYP': 'I Feel Your Pain',\n 'ILU': 'I Love You',\n 'ILY': 'I Love You',\n 'IMHO': 'In My Honest/Humble Opinion',\n 'IMO': 'In My Opinion',\n 'IMU': 'I Miss You',\n 'IOW': 'In Other Words',\n 'IRL': 'In Real Life',\n 'IYKYK': 'If You Know, You Know',\n 'JK': 'Just Kidding',\n 'KISS': 'Keep It Simple, Stupid',\n 'L': 'Loss',\n 'L8R': 'Later',\n 'LDR': 'Long Distance Relationship',\n 'LMAO': 'Laughing My A** Off',\n 'LMK': 'Let Me Know',\n 'LOL': 'Laughing Out Loud',\n 'LTNS': 'Long Time No See',\n 'M8': 'Mate',\n 'MFW': 'My Face When',\n 'MID': 'Mediocre',\n 'MRW': 'My Reaction When',\n 'MTE': 'My Thoughts Exactly',\n 'NPC': 'Non-Player Character',\n 'NRN': 'No Reply Necessary',\n 'NVM': 'Never Mind',\n 'OIC': 'Oh I See',\n 'OP': 'Overpowered',\n 'PITA': 'Pain In The A**',\n 'POV': 'Point Of View',\n 'PRT': 'Party',\n 'PRW': 'Parents Are Watching',\n 'RN': 'Right Now',\n 'ROFL': 'Rolling On The Floor Laughing',\n 'ROFLOL': 'Rolling On The Floor Laughing Out Loud',\n 'ROTFLMAO': 'Rolling On The Floor Laughing My A** Off',\n 'SK8': 'Skate',\n 'STATS': 'Your Sex And Age',\n 'SUS': 'Suspicious',\n 'TBH': 'To Be Honest',\n 'TFW': 'That Feeling When',\n 'THX': 'Thank You',\n 'TIME': 'Tears In My Eyes',\n 'TLDR': 'Too Long, Didn’t Read',\n 'TNTL': 'Trying Not To Laugh',\n 'TTFN': 'Ta-Ta For Now!',\n 'TTYL': 'Talk To You Later',\n 'U': 'You',\n 'U2': 'You Too',\n 'U4E': 'Yours For Ever',\n 'W': 'Win',\n 'W8': 'Wait...',\n 'WB': 'Welcome Back',\n 'WTF': 'What The F**k',\n 'WTG': 'Way To Go!',\n 'WUF': 'Where Are You From?',\n 'WYD': 'What You Doing?',\n 'WYWH': 'Wish You Were Here',\n 'ZZZ': 'Sleeping, Bored, Tired'}\n",
          "output_type": "stream"
        }
      ],
      "execution_count": null
    },
    {
      "cell_type": "code",
      "source": [
        "chat_words"
      ],
      "metadata": {
        "trusted": true,
        "execution": {
          "iopub.status.busy": "2025-10-07T04:00:07.12312Z",
          "iopub.execute_input": "2025-10-07T04:00:07.123458Z",
          "iopub.status.idle": "2025-10-07T04:00:07.168553Z",
          "shell.execute_reply.started": "2025-10-07T04:00:07.123433Z",
          "shell.execute_reply": "2025-10-07T04:00:07.166345Z"
        },
        "id": "_H3VHd2QbQ97",
        "outputId": "be3aab34-8fb0-438e-cf28-7c3dc5a3e315"
      },
      "outputs": [
        {
          "execution_count": 27,
          "output_type": "execute_result",
          "data": {
            "text/plain": "{'A3': 'Anytime, Anywhere, Anyplace',\n 'ADIH': 'Another Day In Hell',\n 'AFK': 'Away From Keyboard',\n 'AFAIK': 'As Far As I Know',\n 'ASAP': 'As Soon As Possible',\n 'ASL': 'Age, Sex, Location',\n 'ATK': 'At The Keyboard',\n 'ATM': 'At The Moment',\n 'BAE': 'Before Anyone Else',\n 'BAK': 'Back At Keyboard',\n 'BBL': 'Be Back Later',\n 'BBS': 'Be Back Soon',\n 'BFN': 'Bye For Now',\n 'B4N': 'Bye For Now',\n 'BRB': 'Be Right Back',\n 'BRUH': 'Bro',\n 'BRT': 'Be Right There',\n 'BSAAW': 'Big Smile And A Wink',\n 'BTW': 'By The Way',\n 'BWL': 'Bursting With Laughter',\n 'CSL': 'Can’t Stop Laughing',\n 'CU': 'See You',\n 'CUL8R': 'See You Later',\n 'CYA': 'See You',\n 'DM': 'Direct Message',\n 'FAQ': 'Frequently Asked Questions',\n 'FC': 'Fingers Crossed',\n 'FIMH': 'Forever In My Heart',\n 'FOMO': 'Fear Of Missing Out',\n 'FR': 'For Real',\n 'FWIW': \"For What It's Worth\",\n 'FYP': 'For You Page',\n 'FYI': 'For Your Information',\n 'G9': 'Genius',\n 'GAL': 'Get A Life',\n 'GG': 'Good Game',\n 'GMTA': 'Great Minds Think Alike',\n 'GN': 'Good Night',\n 'GOAT': 'Greatest Of All Time',\n 'GR8': 'Great!',\n 'HBD': 'Happy Birthday',\n 'IC': 'I See',\n 'ICQ': 'I Seek You',\n 'IDC': 'I Don’t Care',\n 'IDK': \"I Don't Know\",\n 'IFYP': 'I Feel Your Pain',\n 'ILU': 'I Love You',\n 'ILY': 'I Love You',\n 'IMHO': 'In My Honest/Humble Opinion',\n 'IMU': 'I Miss You',\n 'IMO': 'In My Opinion',\n 'IOW': 'In Other Words',\n 'IRL': 'In Real Life',\n 'IYKYK': 'If You Know, You Know',\n 'JK': 'Just Kidding',\n 'KISS': 'Keep It Simple, Stupid',\n 'L': 'Loss',\n 'L8R': 'Later',\n 'LDR': 'Long Distance Relationship',\n 'LMK': 'Let Me Know',\n 'LMAO': 'Laughing My A** Off',\n 'LOL': 'Laughing Out Loud',\n 'LTNS': 'Long Time No See',\n 'M8': 'Mate',\n 'MFW': 'My Face When',\n 'MID': 'Mediocre',\n 'MRW': 'My Reaction When',\n 'MTE': 'My Thoughts Exactly',\n 'NVM': 'Never Mind',\n 'NRN': 'No Reply Necessary',\n 'NPC': 'Non-Player Character',\n 'OIC': 'Oh I See',\n 'OP': 'Overpowered',\n 'PITA': 'Pain In The A**',\n 'POV': 'Point Of View',\n 'PRT': 'Party',\n 'PRW': 'Parents Are Watching',\n 'ROFL': 'Rolling On The Floor Laughing',\n 'ROFLOL': 'Rolling On The Floor Laughing Out Loud',\n 'ROTFLMAO': 'Rolling On The Floor Laughing My A** Off',\n 'RN': 'Right Now',\n 'SK8': 'Skate',\n 'STATS': 'Your Sex And Age',\n 'SUS': 'Suspicious',\n 'TBH': 'To Be Honest',\n 'TFW': 'That Feeling When',\n 'THX': 'Thank You',\n 'TIME': 'Tears In My Eyes',\n 'TLDR': 'Too Long, Didn’t Read',\n 'TNTL': 'Trying Not To Laugh',\n 'TTFN': 'Ta-Ta For Now!',\n 'TTYL': 'Talk To You Later',\n 'U': 'You',\n 'U2': 'You Too',\n 'U4E': 'Yours For Ever',\n 'W': 'Win',\n 'W8': 'Wait...',\n 'WB': 'Welcome Back',\n 'WTF': 'What The F**k',\n 'WTG': 'Way To Go!',\n 'WUF': 'Where Are You From?',\n 'WYD': 'What You Doing?',\n 'WYWH': 'Wish You Were Here',\n 'ZZZ': 'Sleeping, Bored, Tired'}"
          },
          "metadata": {}
        }
      ],
      "execution_count": null
    },
    {
      "cell_type": "code",
      "source": [
        "def chat_conversion(text):\n",
        "    new_text=[]\n",
        "    for w in text.split():\n",
        "        if w.upper() in chat_words:\n",
        "            new_text.append(chat_words[w.upper()])\n",
        "        else:\n",
        "            new_text.append(w)\n",
        "    return \" \".join(new_text)"
      ],
      "metadata": {
        "trusted": true,
        "execution": {
          "iopub.status.busy": "2025-10-07T04:00:07.171093Z",
          "iopub.execute_input": "2025-10-07T04:00:07.171552Z",
          "iopub.status.idle": "2025-10-07T04:00:07.201733Z",
          "shell.execute_reply.started": "2025-10-07T04:00:07.171516Z",
          "shell.execute_reply": "2025-10-07T04:00:07.200698Z"
        },
        "id": "rgcnhtASbQ97"
      },
      "outputs": [],
      "execution_count": null
    },
    {
      "cell_type": "code",
      "source": [
        "chat_conversion('IMHO he is the best')"
      ],
      "metadata": {
        "trusted": true,
        "execution": {
          "iopub.status.busy": "2025-10-07T04:00:07.203003Z",
          "iopub.execute_input": "2025-10-07T04:00:07.203789Z",
          "iopub.status.idle": "2025-10-07T04:00:07.241018Z",
          "shell.execute_reply.started": "2025-10-07T04:00:07.203747Z",
          "shell.execute_reply": "2025-10-07T04:00:07.239141Z"
        },
        "id": "3YfXLaKobQ97",
        "outputId": "76e34ca2-c227-40e4-da43-972052fd1dd1"
      },
      "outputs": [
        {
          "execution_count": 29,
          "output_type": "execute_result",
          "data": {
            "text/plain": "'In My Honest/Humble Opinion he is the best'"
          },
          "metadata": {}
        }
      ],
      "execution_count": null
    },
    {
      "cell_type": "code",
      "source": [
        "chat_conversion('FYI delhi is the capital of india')"
      ],
      "metadata": {
        "trusted": true,
        "execution": {
          "iopub.status.busy": "2025-10-07T04:00:07.243063Z",
          "iopub.execute_input": "2025-10-07T04:00:07.243712Z",
          "iopub.status.idle": "2025-10-07T04:00:07.275745Z",
          "shell.execute_reply.started": "2025-10-07T04:00:07.243516Z",
          "shell.execute_reply": "2025-10-07T04:00:07.274271Z"
        },
        "id": "YYYd3ox4bQ97",
        "outputId": "a50968d7-7cd8-4b76-c380-1a41a94c1a22"
      },
      "outputs": [
        {
          "execution_count": 30,
          "output_type": "execute_result",
          "data": {
            "text/plain": "'For Your Information delhi is the capital of india'"
          },
          "metadata": {}
        }
      ],
      "execution_count": null
    },
    {
      "cell_type": "code",
      "source": [
        "from textblob import TextBlob"
      ],
      "metadata": {
        "trusted": true,
        "execution": {
          "iopub.status.busy": "2025-10-07T04:00:07.276931Z",
          "iopub.execute_input": "2025-10-07T04:00:07.277301Z",
          "iopub.status.idle": "2025-10-07T04:00:09.326593Z",
          "shell.execute_reply.started": "2025-10-07T04:00:07.277278Z",
          "shell.execute_reply": "2025-10-07T04:00:09.325496Z"
        },
        "id": "I1ioi885bQ97"
      },
      "outputs": [],
      "execution_count": null
    },
    {
      "cell_type": "code",
      "source": [
        "incorrect_text = 'ceertain conditionas duriing seveal ggenerations aree moodified in the saame maner.'\n",
        "\n",
        "textBlb = TextBlob(incorrect_text)\n",
        "\n",
        "textBlb.correct().string"
      ],
      "metadata": {
        "trusted": true,
        "execution": {
          "iopub.status.busy": "2025-10-07T04:00:09.327958Z",
          "iopub.execute_input": "2025-10-07T04:00:09.328411Z",
          "iopub.status.idle": "2025-10-07T04:00:09.38815Z",
          "shell.execute_reply.started": "2025-10-07T04:00:09.328388Z",
          "shell.execute_reply": "2025-10-07T04:00:09.386893Z"
        },
        "id": "pZme4LzXbQ97",
        "outputId": "8e6a5a21-8a95-4354-f618-b5c0a6b3004e"
      },
      "outputs": [
        {
          "execution_count": 32,
          "output_type": "execute_result",
          "data": {
            "text/plain": "'certain conditions during several generations are modified in the same manner.'"
          },
          "metadata": {}
        }
      ],
      "execution_count": null
    },
    {
      "cell_type": "code",
      "source": [
        "from nltk.corpus import stopwords"
      ],
      "metadata": {
        "trusted": true,
        "execution": {
          "iopub.status.busy": "2025-10-07T04:00:09.389198Z",
          "iopub.execute_input": "2025-10-07T04:00:09.389533Z",
          "iopub.status.idle": "2025-10-07T04:00:09.395465Z",
          "shell.execute_reply.started": "2025-10-07T04:00:09.389506Z",
          "shell.execute_reply": "2025-10-07T04:00:09.394107Z"
        },
        "id": "JW6iEhClbQ98"
      },
      "outputs": [],
      "execution_count": null
    },
    {
      "cell_type": "code",
      "source": [
        "stopwords.words('spanish')"
      ],
      "metadata": {
        "trusted": true,
        "execution": {
          "iopub.status.busy": "2025-10-07T04:00:09.396634Z",
          "iopub.execute_input": "2025-10-07T04:00:09.396949Z",
          "iopub.status.idle": "2025-10-07T04:00:09.433641Z",
          "shell.execute_reply.started": "2025-10-07T04:00:09.396926Z",
          "shell.execute_reply": "2025-10-07T04:00:09.432499Z"
        },
        "id": "ekH8mo2VbQ98",
        "outputId": "bea4391f-7f21-41a0-c245-63dbcaa5320b"
      },
      "outputs": [
        {
          "execution_count": 34,
          "output_type": "execute_result",
          "data": {
            "text/plain": "['de',\n 'la',\n 'que',\n 'el',\n 'en',\n 'y',\n 'a',\n 'los',\n 'del',\n 'se',\n 'las',\n 'por',\n 'un',\n 'para',\n 'con',\n 'no',\n 'una',\n 'su',\n 'al',\n 'lo',\n 'como',\n 'más',\n 'pero',\n 'sus',\n 'le',\n 'ya',\n 'o',\n 'este',\n 'sí',\n 'porque',\n 'esta',\n 'entre',\n 'cuando',\n 'muy',\n 'sin',\n 'sobre',\n 'también',\n 'me',\n 'hasta',\n 'hay',\n 'donde',\n 'quien',\n 'desde',\n 'todo',\n 'nos',\n 'durante',\n 'todos',\n 'uno',\n 'les',\n 'ni',\n 'contra',\n 'otros',\n 'ese',\n 'eso',\n 'ante',\n 'ellos',\n 'e',\n 'esto',\n 'mí',\n 'antes',\n 'algunos',\n 'qué',\n 'unos',\n 'yo',\n 'otro',\n 'otras',\n 'otra',\n 'él',\n 'tanto',\n 'esa',\n 'estos',\n 'mucho',\n 'quienes',\n 'nada',\n 'muchos',\n 'cual',\n 'poco',\n 'ella',\n 'estar',\n 'estas',\n 'algunas',\n 'algo',\n 'nosotros',\n 'mi',\n 'mis',\n 'tú',\n 'te',\n 'ti',\n 'tu',\n 'tus',\n 'ellas',\n 'nosotras',\n 'vosotros',\n 'vosotras',\n 'os',\n 'mío',\n 'mía',\n 'míos',\n 'mías',\n 'tuyo',\n 'tuya',\n 'tuyos',\n 'tuyas',\n 'suyo',\n 'suya',\n 'suyos',\n 'suyas',\n 'nuestro',\n 'nuestra',\n 'nuestros',\n 'nuestras',\n 'vuestro',\n 'vuestra',\n 'vuestros',\n 'vuestras',\n 'esos',\n 'esas',\n 'estoy',\n 'estás',\n 'está',\n 'estamos',\n 'estáis',\n 'están',\n 'esté',\n 'estés',\n 'estemos',\n 'estéis',\n 'estén',\n 'estaré',\n 'estarás',\n 'estará',\n 'estaremos',\n 'estaréis',\n 'estarán',\n 'estaría',\n 'estarías',\n 'estaríamos',\n 'estaríais',\n 'estarían',\n 'estaba',\n 'estabas',\n 'estábamos',\n 'estabais',\n 'estaban',\n 'estuve',\n 'estuviste',\n 'estuvo',\n 'estuvimos',\n 'estuvisteis',\n 'estuvieron',\n 'estuviera',\n 'estuvieras',\n 'estuviéramos',\n 'estuvierais',\n 'estuvieran',\n 'estuviese',\n 'estuvieses',\n 'estuviésemos',\n 'estuvieseis',\n 'estuviesen',\n 'estando',\n 'estado',\n 'estada',\n 'estados',\n 'estadas',\n 'estad',\n 'he',\n 'has',\n 'ha',\n 'hemos',\n 'habéis',\n 'han',\n 'haya',\n 'hayas',\n 'hayamos',\n 'hayáis',\n 'hayan',\n 'habré',\n 'habrás',\n 'habrá',\n 'habremos',\n 'habréis',\n 'habrán',\n 'habría',\n 'habrías',\n 'habríamos',\n 'habríais',\n 'habrían',\n 'había',\n 'habías',\n 'habíamos',\n 'habíais',\n 'habían',\n 'hube',\n 'hubiste',\n 'hubo',\n 'hubimos',\n 'hubisteis',\n 'hubieron',\n 'hubiera',\n 'hubieras',\n 'hubiéramos',\n 'hubierais',\n 'hubieran',\n 'hubiese',\n 'hubieses',\n 'hubiésemos',\n 'hubieseis',\n 'hubiesen',\n 'habiendo',\n 'habido',\n 'habida',\n 'habidos',\n 'habidas',\n 'soy',\n 'eres',\n 'es',\n 'somos',\n 'sois',\n 'son',\n 'sea',\n 'seas',\n 'seamos',\n 'seáis',\n 'sean',\n 'seré',\n 'serás',\n 'será',\n 'seremos',\n 'seréis',\n 'serán',\n 'sería',\n 'serías',\n 'seríamos',\n 'seríais',\n 'serían',\n 'era',\n 'eras',\n 'éramos',\n 'erais',\n 'eran',\n 'fui',\n 'fuiste',\n 'fue',\n 'fuimos',\n 'fuisteis',\n 'fueron',\n 'fuera',\n 'fueras',\n 'fuéramos',\n 'fuerais',\n 'fueran',\n 'fuese',\n 'fueses',\n 'fuésemos',\n 'fueseis',\n 'fuesen',\n 'sintiendo',\n 'sentido',\n 'sentida',\n 'sentidos',\n 'sentidas',\n 'siente',\n 'sentid',\n 'tengo',\n 'tienes',\n 'tiene',\n 'tenemos',\n 'tenéis',\n 'tienen',\n 'tenga',\n 'tengas',\n 'tengamos',\n 'tengáis',\n 'tengan',\n 'tendré',\n 'tendrás',\n 'tendrá',\n 'tendremos',\n 'tendréis',\n 'tendrán',\n 'tendría',\n 'tendrías',\n 'tendríamos',\n 'tendríais',\n 'tendrían',\n 'tenía',\n 'tenías',\n 'teníamos',\n 'teníais',\n 'tenían',\n 'tuve',\n 'tuviste',\n 'tuvo',\n 'tuvimos',\n 'tuvisteis',\n 'tuvieron',\n 'tuviera',\n 'tuvieras',\n 'tuviéramos',\n 'tuvierais',\n 'tuvieran',\n 'tuviese',\n 'tuvieses',\n 'tuviésemos',\n 'tuvieseis',\n 'tuviesen',\n 'teniendo',\n 'tenido',\n 'tenida',\n 'tenidos',\n 'tenidas',\n 'tened']"
          },
          "metadata": {}
        }
      ],
      "execution_count": null
    },
    {
      "cell_type": "code",
      "source": [
        "def remove_stopwords(text):\n",
        "    new_text = []\n",
        "\n",
        "    for word in text.split():\n",
        "        if word in stopwords.words('english'):\n",
        "            new_text.append('')\n",
        "        else:\n",
        "            new_text.append(word)\n",
        "    x = new_text[:]\n",
        "    new_text.clear()\n",
        "    return \" \".join(x)"
      ],
      "metadata": {
        "trusted": true,
        "execution": {
          "iopub.status.busy": "2025-10-07T04:00:09.434841Z",
          "iopub.execute_input": "2025-10-07T04:00:09.43646Z",
          "iopub.status.idle": "2025-10-07T04:00:09.448628Z",
          "shell.execute_reply.started": "2025-10-07T04:00:09.436422Z",
          "shell.execute_reply": "2025-10-07T04:00:09.447618Z"
        },
        "id": "w9-x33H0bQ98"
      },
      "outputs": [],
      "execution_count": null
    },
    {
      "cell_type": "code",
      "source": [
        "remove_stopwords('probably my all-time favorite movie, a story of selflessness, sacrifice and dedication to a noble cause, but it\\'s not preachy or boring. it just never gets old, despite my having seen it some 15 or more times')"
      ],
      "metadata": {
        "trusted": true,
        "execution": {
          "iopub.status.busy": "2025-10-07T04:00:09.449723Z",
          "iopub.execute_input": "2025-10-07T04:00:09.450077Z",
          "iopub.status.idle": "2025-10-07T04:00:09.481109Z",
          "shell.execute_reply.started": "2025-10-07T04:00:09.450026Z",
          "shell.execute_reply": "2025-10-07T04:00:09.479794Z"
        },
        "id": "27U_MLqNbQ98",
        "outputId": "35944aab-1186-466a-955e-255ee63c37c6"
      },
      "outputs": [
        {
          "execution_count": 36,
          "output_type": "execute_result",
          "data": {
            "text/plain": "'probably  all-time favorite movie,  story  selflessness, sacrifice  dedication   noble cause,    preachy  boring.   never gets old, despite   seen   15   times'"
          },
          "metadata": {}
        }
      ],
      "execution_count": null
    },
    {
      "cell_type": "code",
      "source": [
        "df.head()"
      ],
      "metadata": {
        "trusted": true,
        "execution": {
          "iopub.status.busy": "2025-10-07T04:00:09.482229Z",
          "iopub.execute_input": "2025-10-07T04:00:09.482687Z",
          "iopub.status.idle": "2025-10-07T04:00:09.500913Z",
          "shell.execute_reply.started": "2025-10-07T04:00:09.482654Z",
          "shell.execute_reply": "2025-10-07T04:00:09.499682Z"
        },
        "id": "vlAu4grabQ98",
        "outputId": "c8e7b08e-fac0-4919-ca23-9a44dc890d6b"
      },
      "outputs": [
        {
          "execution_count": 37,
          "output_type": "execute_result",
          "data": {
            "text/plain": "                                              review sentiment\n0  one of the other reviewers has mentioned that ...  positive\n1  a wonderful little production. the filming tec...  positive\n2  i thought this was a wonderful way to spend ti...  positive\n3  basically there's a family where a little boy ...  negative\n4  petter mattei's \"love in the time of money\" is...  positive",
            "text/html": "<div>\n<style scoped>\n    .dataframe tbody tr th:only-of-type {\n        vertical-align: middle;\n    }\n\n    .dataframe tbody tr th {\n        vertical-align: top;\n    }\n\n    .dataframe thead th {\n        text-align: right;\n    }\n</style>\n<table border=\"1\" class=\"dataframe\">\n  <thead>\n    <tr style=\"text-align: right;\">\n      <th></th>\n      <th>review</th>\n      <th>sentiment</th>\n    </tr>\n  </thead>\n  <tbody>\n    <tr>\n      <th>0</th>\n      <td>one of the other reviewers has mentioned that ...</td>\n      <td>positive</td>\n    </tr>\n    <tr>\n      <th>1</th>\n      <td>a wonderful little production. the filming tec...</td>\n      <td>positive</td>\n    </tr>\n    <tr>\n      <th>2</th>\n      <td>i thought this was a wonderful way to spend ti...</td>\n      <td>positive</td>\n    </tr>\n    <tr>\n      <th>3</th>\n      <td>basically there's a family where a little boy ...</td>\n      <td>negative</td>\n    </tr>\n    <tr>\n      <th>4</th>\n      <td>petter mattei's \"love in the time of money\" is...</td>\n      <td>positive</td>\n    </tr>\n  </tbody>\n</table>\n</div>"
          },
          "metadata": {}
        }
      ],
      "execution_count": null
    },
    {
      "cell_type": "code",
      "source": [
        "# df['review'].apply(remove_stopwords)"
      ],
      "metadata": {
        "trusted": true,
        "execution": {
          "iopub.status.busy": "2025-10-07T04:00:09.501938Z",
          "iopub.execute_input": "2025-10-07T04:00:09.502346Z",
          "iopub.status.idle": "2025-10-07T04:00:09.526081Z",
          "shell.execute_reply.started": "2025-10-07T04:00:09.502321Z",
          "shell.execute_reply": "2025-10-07T04:00:09.525008Z"
        },
        "id": "qdt7NHwvbQ98"
      },
      "outputs": [],
      "execution_count": null
    },
    {
      "cell_type": "code",
      "source": [
        "import re\n",
        "def remove_emoji(text):\n",
        "    emoji_pattern = re.compile(\"[\"\n",
        "                           u\"\\U0001F600-\\U0001F64F\"  # emoticons\n",
        "                           u\"\\U0001F300-\\U0001F5FF\"  # symbols & pictographs\n",
        "                           u\"\\U0001F680-\\U0001F6FF\"  # transport & map symbols\n",
        "                           u\"\\U0001F1E0-\\U0001F1FF\"  # flags (iOS)\n",
        "                           u\"\\U00002702-\\U000027B0\"\n",
        "                           u\"\\U000024C2-\\U0001F251\"\n",
        "                           \"]+\", flags=re.UNICODE)\n",
        "    return emoji_pattern.sub(r'',text)"
      ],
      "metadata": {
        "trusted": true,
        "execution": {
          "iopub.status.busy": "2025-10-07T04:00:09.52714Z",
          "iopub.execute_input": "2025-10-07T04:00:09.527496Z",
          "iopub.status.idle": "2025-10-07T04:00:09.550118Z",
          "shell.execute_reply.started": "2025-10-07T04:00:09.527466Z",
          "shell.execute_reply": "2025-10-07T04:00:09.548964Z"
        },
        "id": "hbSm4-asbQ-C"
      },
      "outputs": [],
      "execution_count": null
    },
    {
      "cell_type": "code",
      "source": [
        "remove_emoji(\"Loved the movie. It was 😘😘\")"
      ],
      "metadata": {
        "trusted": true,
        "execution": {
          "iopub.status.busy": "2025-10-07T04:00:09.551204Z",
          "iopub.execute_input": "2025-10-07T04:00:09.551492Z",
          "iopub.status.idle": "2025-10-07T04:00:09.575797Z",
          "shell.execute_reply.started": "2025-10-07T04:00:09.551471Z",
          "shell.execute_reply": "2025-10-07T04:00:09.574642Z"
        },
        "id": "YXdpeeG3bQ-C",
        "outputId": "504c642e-7d1d-4223-baef-ea6cd40215fa"
      },
      "outputs": [
        {
          "execution_count": 40,
          "output_type": "execute_result",
          "data": {
            "text/plain": "'Loved the movie. It was '"
          },
          "metadata": {}
        }
      ],
      "execution_count": null
    },
    {
      "cell_type": "code",
      "source": [
        "remove_emoji(\"Lmao 😂😂\")"
      ],
      "metadata": {
        "trusted": true,
        "execution": {
          "iopub.status.busy": "2025-10-07T04:00:09.577338Z",
          "iopub.execute_input": "2025-10-07T04:00:09.577711Z",
          "iopub.status.idle": "2025-10-07T04:00:09.598052Z",
          "shell.execute_reply.started": "2025-10-07T04:00:09.577671Z",
          "shell.execute_reply": "2025-10-07T04:00:09.597009Z"
        },
        "id": "-rW-NE_RbQ-C",
        "outputId": "02ddf78d-0af5-4071-fb6d-a89ec8309a6d"
      },
      "outputs": [
        {
          "execution_count": 41,
          "output_type": "execute_result",
          "data": {
            "text/plain": "'Lmao '"
          },
          "metadata": {}
        }
      ],
      "execution_count": null
    },
    {
      "cell_type": "code",
      "source": [
        "import emoji\n",
        "print(emoji.demojize('Python is 🔥'))"
      ],
      "metadata": {
        "trusted": true,
        "execution": {
          "iopub.status.busy": "2025-10-07T04:00:51.591703Z",
          "iopub.execute_input": "2025-10-07T04:00:51.592101Z",
          "iopub.status.idle": "2025-10-07T04:00:51.667761Z",
          "shell.execute_reply.started": "2025-10-07T04:00:51.592075Z",
          "shell.execute_reply": "2025-10-07T04:00:51.666703Z"
        },
        "id": "dK-A8LhnbQ-C",
        "outputId": "f41cbe57-8753-4dde-b532-3295d5ffc81a"
      },
      "outputs": [
        {
          "name": "stdout",
          "text": "Python is :fire:\n",
          "output_type": "stream"
        }
      ],
      "execution_count": null
    },
    {
      "cell_type": "code",
      "source": [
        "print(emoji.demojize('Loved the movie. It was 😘'))"
      ],
      "metadata": {
        "trusted": true,
        "execution": {
          "iopub.status.busy": "2025-10-07T04:00:52.445861Z",
          "iopub.execute_input": "2025-10-07T04:00:52.446203Z",
          "iopub.status.idle": "2025-10-07T04:00:52.451975Z",
          "shell.execute_reply.started": "2025-10-07T04:00:52.446182Z",
          "shell.execute_reply": "2025-10-07T04:00:52.450695Z"
        },
        "id": "zOFsc5rtbQ-D",
        "outputId": "6434d76f-70da-444b-d142-f08fe1c12ae5"
      },
      "outputs": [
        {
          "name": "stdout",
          "text": "Loved the movie. It was :face_blowing_a_kiss:\n",
          "output_type": "stream"
        }
      ],
      "execution_count": null
    },
    {
      "cell_type": "markdown",
      "source": [
        "## 1. using the split function"
      ],
      "metadata": {
        "id": "RnZBc0yobQ-D"
      }
    },
    {
      "cell_type": "code",
      "source": [
        "# word tokenization\n",
        "sent1 = 'I am going to delhi'\n",
        "sent1.split()"
      ],
      "metadata": {
        "trusted": true,
        "execution": {
          "iopub.status.busy": "2025-10-07T06:24:45.504518Z",
          "iopub.execute_input": "2025-10-07T06:24:45.505373Z",
          "iopub.status.idle": "2025-10-07T06:24:45.511724Z",
          "shell.execute_reply.started": "2025-10-07T06:24:45.505344Z",
          "shell.execute_reply": "2025-10-07T06:24:45.510569Z"
        },
        "id": "0Ap3cOubbQ-D",
        "outputId": "c264f428-800b-4642-8e23-f0c5a7552ad7"
      },
      "outputs": [
        {
          "execution_count": 24,
          "output_type": "execute_result",
          "data": {
            "text/plain": "['I', 'am', 'going', 'to', 'delhi']"
          },
          "metadata": {}
        }
      ],
      "execution_count": null
    },
    {
      "cell_type": "code",
      "source": [
        "# sentence tokenization\n",
        "sent2 = 'I am going to delhi. I will stay there for 3 days. Let\\'s hope the trip to be great'\n",
        "sent2.split('.')"
      ],
      "metadata": {
        "trusted": true,
        "execution": {
          "iopub.status.busy": "2025-10-07T06:24:45.839382Z",
          "iopub.execute_input": "2025-10-07T06:24:45.839692Z",
          "iopub.status.idle": "2025-10-07T06:24:45.845835Z",
          "shell.execute_reply.started": "2025-10-07T06:24:45.839672Z",
          "shell.execute_reply": "2025-10-07T06:24:45.844948Z"
        },
        "id": "a3fbd150bQ-E",
        "outputId": "e31d5009-a89a-4edf-bccc-5ee6ce3c0c2b"
      },
      "outputs": [
        {
          "execution_count": 25,
          "output_type": "execute_result",
          "data": {
            "text/plain": "['I am going to delhi',\n ' I will stay there for 3 days',\n \" Let's hope the trip to be great\"]"
          },
          "metadata": {}
        }
      ],
      "execution_count": null
    },
    {
      "cell_type": "code",
      "source": [
        "# problems with split function\n",
        "sent3 = 'I am going to delhi!'\n",
        "sent3.split()"
      ],
      "metadata": {
        "trusted": true,
        "execution": {
          "iopub.status.busy": "2025-10-07T06:24:46.03318Z",
          "iopub.execute_input": "2025-10-07T06:24:46.033544Z",
          "iopub.status.idle": "2025-10-07T06:24:46.040167Z",
          "shell.execute_reply.started": "2025-10-07T06:24:46.033521Z",
          "shell.execute_reply": "2025-10-07T06:24:46.03923Z"
        },
        "id": "iPgxARsmbQ-E",
        "outputId": "b564e346-8de7-4efe-fa0a-c40d4d9bded6"
      },
      "outputs": [
        {
          "execution_count": 26,
          "output_type": "execute_result",
          "data": {
            "text/plain": "['I', 'am', 'going', 'to', 'delhi!']"
          },
          "metadata": {}
        }
      ],
      "execution_count": null
    },
    {
      "cell_type": "code",
      "source": [
        "sent4 = 'Where do think I should go? I have 3 day holiday'\n",
        "sent4.split('.')"
      ],
      "metadata": {
        "trusted": true,
        "execution": {
          "iopub.status.busy": "2025-10-07T06:24:46.249165Z",
          "iopub.execute_input": "2025-10-07T06:24:46.249462Z",
          "iopub.status.idle": "2025-10-07T06:24:46.256248Z",
          "shell.execute_reply.started": "2025-10-07T06:24:46.24944Z",
          "shell.execute_reply": "2025-10-07T06:24:46.254852Z"
        },
        "id": "dHl4bbFtbQ-E",
        "outputId": "31edbbb4-5d95-4185-9070-bd6767798afd"
      },
      "outputs": [
        {
          "execution_count": 27,
          "output_type": "execute_result",
          "data": {
            "text/plain": "['Where do think I should go? I have 3 day holiday']"
          },
          "metadata": {}
        }
      ],
      "execution_count": null
    },
    {
      "cell_type": "markdown",
      "source": [
        "## 2. Regular Expression\n"
      ],
      "metadata": {
        "id": "hwQBLbw1bQ-E"
      }
    },
    {
      "cell_type": "code",
      "source": [
        "import re\n",
        "sent3 = 'I am going to delhi!'\n",
        "tokens = re.findall(\"[\\w']+\", sent3)\n",
        "tokens"
      ],
      "metadata": {
        "trusted": true,
        "execution": {
          "iopub.status.busy": "2025-10-07T06:24:46.698829Z",
          "iopub.execute_input": "2025-10-07T06:24:46.699209Z",
          "iopub.status.idle": "2025-10-07T06:24:46.706651Z",
          "shell.execute_reply.started": "2025-10-07T06:24:46.699183Z",
          "shell.execute_reply": "2025-10-07T06:24:46.705673Z"
        },
        "id": "KzlEJ3YdbQ-E",
        "outputId": "b2e4a37b-79ea-4ef0-8a73-93ca1966ce98"
      },
      "outputs": [
        {
          "execution_count": 28,
          "output_type": "execute_result",
          "data": {
            "text/plain": "['I', 'am', 'going', 'to', 'delhi']"
          },
          "metadata": {}
        }
      ],
      "execution_count": null
    },
    {
      "cell_type": "code",
      "source": [
        "text = \"\"\"Lorem Ipsum is simply dummy text of the printing and typesetting industry?\n",
        "Lorem Ipsum has been the industry's standard dummy text ever since the 1500s,\n",
        "when an unknown printer took a galley of type and scrambled it to make a type specimen book.\"\"\"\n",
        "sentences = re.compile('[.!?] ').split(text)\n",
        "sentences"
      ],
      "metadata": {
        "trusted": true,
        "execution": {
          "iopub.status.busy": "2025-10-07T06:24:46.909716Z",
          "iopub.execute_input": "2025-10-07T06:24:46.910082Z",
          "iopub.status.idle": "2025-10-07T06:24:46.917095Z",
          "shell.execute_reply.started": "2025-10-07T06:24:46.910025Z",
          "shell.execute_reply": "2025-10-07T06:24:46.915982Z"
        },
        "id": "d2ryiHHUbQ-E",
        "outputId": "96edb688-4216-4d3d-e740-67057cf1d78e"
      },
      "outputs": [
        {
          "execution_count": 29,
          "output_type": "execute_result",
          "data": {
            "text/plain": "['Lorem Ipsum is simply dummy text of the printing and typesetting industry',\n \"\\nLorem Ipsum has been the industry's standard dummy text ever since the 1500s, \\nwhen an unknown printer took a galley of type and scrambled it to make a type specimen book.\"]"
          },
          "metadata": {}
        }
      ],
      "execution_count": null
    },
    {
      "cell_type": "markdown",
      "source": [
        "## 3. NLTK"
      ],
      "metadata": {
        "id": "GABcYEVRbQ-E"
      }
    },
    {
      "cell_type": "code",
      "source": [
        "from nltk.tokenize import word_tokenize, sent_tokenize"
      ],
      "metadata": {
        "trusted": true,
        "execution": {
          "iopub.status.busy": "2025-10-07T06:24:47.548121Z",
          "iopub.execute_input": "2025-10-07T06:24:47.548801Z",
          "iopub.status.idle": "2025-10-07T06:24:47.55364Z",
          "shell.execute_reply.started": "2025-10-07T06:24:47.548772Z",
          "shell.execute_reply": "2025-10-07T06:24:47.552447Z"
        },
        "id": "K1PgIrM7bQ-E"
      },
      "outputs": [],
      "execution_count": null
    },
    {
      "cell_type": "code",
      "source": [
        "text = \"\"\"Lorem Ipsum is simply dummy text of the printing and typesetting industry?\n",
        "Lorem Ipsum has been the industry's standard dummy text ever since the 1500s,\n",
        "when an unknown printer took a galley of type and scrambled it to make a type specimen book.\"\"\"\n",
        "\n",
        "sent_tokenize(text)"
      ],
      "metadata": {
        "trusted": true,
        "execution": {
          "iopub.status.busy": "2025-10-07T06:24:50.374586Z",
          "iopub.execute_input": "2025-10-07T06:24:50.374884Z",
          "iopub.status.idle": "2025-10-07T06:24:50.384336Z",
          "shell.execute_reply.started": "2025-10-07T06:24:50.374864Z",
          "shell.execute_reply": "2025-10-07T06:24:50.383367Z"
        },
        "id": "m7PyQBLlbQ-F",
        "outputId": "778b739f-ce44-46c8-ae75-9699b579f9d8"
      },
      "outputs": [
        {
          "execution_count": 31,
          "output_type": "execute_result",
          "data": {
            "text/plain": "['Lorem Ipsum is simply dummy text of the printing and typesetting industry?',\n \"Lorem Ipsum has been the industry's standard dummy text ever since the 1500s, \\nwhen an unknown printer took a galley of type and scrambled it to make a type specimen book.\"]"
          },
          "metadata": {}
        }
      ],
      "execution_count": null
    },
    {
      "cell_type": "code",
      "source": [
        "sent5 = 'I have a Ph.D in A.I'\n",
        "sent6 = \"We're here to help! mail us at nks@gmail.com\"\n",
        "sent7 = 'A 5km ride cost $10.50'\n",
        "\n",
        "word_tokenize(sent5)"
      ],
      "metadata": {
        "trusted": true,
        "execution": {
          "iopub.status.busy": "2025-10-07T06:24:50.984667Z",
          "iopub.execute_input": "2025-10-07T06:24:50.984979Z",
          "iopub.status.idle": "2025-10-07T06:24:50.992363Z",
          "shell.execute_reply.started": "2025-10-07T06:24:50.984956Z",
          "shell.execute_reply": "2025-10-07T06:24:50.991423Z"
        },
        "id": "uTMKiJ_9bQ-F",
        "outputId": "9a533cf9-4dd9-40a9-ffd7-3a55dd9cf083"
      },
      "outputs": [
        {
          "execution_count": 32,
          "output_type": "execute_result",
          "data": {
            "text/plain": "['I', 'have', 'a', 'Ph.D', 'in', 'A.I']"
          },
          "metadata": {}
        }
      ],
      "execution_count": null
    },
    {
      "cell_type": "code",
      "source": [
        "word_tokenize(sent6)"
      ],
      "metadata": {
        "trusted": true,
        "execution": {
          "iopub.status.busy": "2025-10-07T06:24:53.182716Z",
          "iopub.execute_input": "2025-10-07T06:24:53.183564Z",
          "iopub.status.idle": "2025-10-07T06:24:53.189887Z",
          "shell.execute_reply.started": "2025-10-07T06:24:53.183532Z",
          "shell.execute_reply": "2025-10-07T06:24:53.188798Z"
        },
        "id": "kKPC-JI6bQ-F",
        "outputId": "33a68c9b-a07d-433d-a30f-36a07c24647d"
      },
      "outputs": [
        {
          "execution_count": 33,
          "output_type": "execute_result",
          "data": {
            "text/plain": "['We',\n \"'re\",\n 'here',\n 'to',\n 'help',\n '!',\n 'mail',\n 'us',\n 'at',\n 'nks',\n '@',\n 'gmail.com']"
          },
          "metadata": {}
        }
      ],
      "execution_count": null
    },
    {
      "cell_type": "code",
      "source": [
        "word_tokenize(sent7)"
      ],
      "metadata": {
        "trusted": true,
        "execution": {
          "iopub.status.busy": "2025-10-07T06:24:53.482149Z",
          "iopub.execute_input": "2025-10-07T06:24:53.482495Z",
          "iopub.status.idle": "2025-10-07T06:24:53.489762Z",
          "shell.execute_reply.started": "2025-10-07T06:24:53.482471Z",
          "shell.execute_reply": "2025-10-07T06:24:53.48877Z"
        },
        "id": "WtOzwSu8bQ-F",
        "outputId": "cf6858d0-a4d9-4572-deb8-ad818734e75b"
      },
      "outputs": [
        {
          "execution_count": 34,
          "output_type": "execute_result",
          "data": {
            "text/plain": "['A', '5km', 'ride', 'cost', '$', '10.50']"
          },
          "metadata": {}
        }
      ],
      "execution_count": null
    },
    {
      "cell_type": "markdown",
      "source": [
        "## 4. Spacy"
      ],
      "metadata": {
        "id": "A_mXwy97bQ-F"
      }
    },
    {
      "cell_type": "code",
      "source": [
        "import spacy\n",
        "nlp = spacy.load(\"en_core_web_sm\")"
      ],
      "metadata": {
        "trusted": true,
        "execution": {
          "iopub.status.busy": "2025-10-07T06:24:55.883369Z",
          "iopub.execute_input": "2025-10-07T06:24:55.883662Z",
          "iopub.status.idle": "2025-10-07T06:24:56.601433Z",
          "shell.execute_reply.started": "2025-10-07T06:24:55.883642Z",
          "shell.execute_reply": "2025-10-07T06:24:56.600344Z"
        },
        "id": "ATPM9Dw0bQ-F"
      },
      "outputs": [],
      "execution_count": null
    },
    {
      "cell_type": "code",
      "source": [
        "doc1 = nlp(sent5)\n",
        "doc2 = nlp(sent6)\n",
        "doc3 = nlp(sent7)\n",
        "doc4 = nlp(sent1)"
      ],
      "metadata": {
        "trusted": true,
        "execution": {
          "iopub.status.busy": "2025-10-07T06:27:46.489728Z",
          "iopub.execute_input": "2025-10-07T06:27:46.490169Z",
          "iopub.status.idle": "2025-10-07T06:27:46.543923Z",
          "shell.execute_reply.started": "2025-10-07T06:27:46.490136Z",
          "shell.execute_reply": "2025-10-07T06:27:46.542796Z"
        },
        "id": "_1B-SHeWbQ-F"
      },
      "outputs": [],
      "execution_count": null
    },
    {
      "cell_type": "code",
      "source": [
        "for token in doc4:\n",
        "    print(token)"
      ],
      "metadata": {
        "trusted": true,
        "execution": {
          "iopub.status.busy": "2025-10-07T06:27:47.776804Z",
          "iopub.execute_input": "2025-10-07T06:27:47.777183Z",
          "iopub.status.idle": "2025-10-07T06:27:47.782868Z",
          "shell.execute_reply.started": "2025-10-07T06:27:47.777158Z",
          "shell.execute_reply": "2025-10-07T06:27:47.781713Z"
        },
        "id": "kRHn_y04bQ-F",
        "outputId": "2dbcef6a-4758-497c-d4f7-bf9697bd4a3a"
      },
      "outputs": [
        {
          "name": "stdout",
          "text": "I\nam\ngoing\nto\ndelhi\n",
          "output_type": "stream"
        }
      ],
      "execution_count": null
    },
    {
      "cell_type": "code",
      "source": [
        "from nltk.stem.porter import PorterStemmer"
      ],
      "metadata": {
        "trusted": true,
        "execution": {
          "iopub.status.busy": "2025-10-07T06:31:15.926324Z",
          "iopub.execute_input": "2025-10-07T06:31:15.926656Z",
          "iopub.status.idle": "2025-10-07T06:31:15.932727Z",
          "shell.execute_reply.started": "2025-10-07T06:31:15.926632Z",
          "shell.execute_reply": "2025-10-07T06:31:15.931269Z"
        },
        "id": "3N9rBlVqbQ-F"
      },
      "outputs": [],
      "execution_count": null
    },
    {
      "cell_type": "code",
      "source": [
        "ps = PorterStemmer()\n",
        "def stem_words(text):\n",
        "    return \" \".join([ps.stem(word) for word in text.split()])"
      ],
      "metadata": {
        "trusted": true,
        "execution": {
          "iopub.status.busy": "2025-10-07T06:32:45.550676Z",
          "iopub.execute_input": "2025-10-07T06:32:45.55109Z",
          "iopub.status.idle": "2025-10-07T06:32:45.556777Z",
          "shell.execute_reply.started": "2025-10-07T06:32:45.551033Z",
          "shell.execute_reply": "2025-10-07T06:32:45.555616Z"
        },
        "id": "o-FStO5JbQ-G"
      },
      "outputs": [],
      "execution_count": null
    },
    {
      "cell_type": "code",
      "source": [
        "sample = \"walk walks walking walked\"\n",
        "stem_words(sample)"
      ],
      "metadata": {
        "trusted": true,
        "execution": {
          "iopub.status.busy": "2025-10-07T06:34:53.209936Z",
          "iopub.execute_input": "2025-10-07T06:34:53.210307Z",
          "iopub.status.idle": "2025-10-07T06:34:53.217264Z",
          "shell.execute_reply.started": "2025-10-07T06:34:53.210282Z",
          "shell.execute_reply": "2025-10-07T06:34:53.21634Z"
        },
        "id": "sfzA-Q6ObQ-G",
        "outputId": "86414385-8f0a-4373-f785-e632e97bc88b"
      },
      "outputs": [
        {
          "execution_count": 42,
          "output_type": "execute_result",
          "data": {
            "text/plain": "'walk walk walk walk'"
          },
          "metadata": {}
        }
      ],
      "execution_count": null
    },
    {
      "cell_type": "code",
      "source": [
        "text = 'probably my alltime favorite movie a story of selflessness sacrifice and dedication to a noble cause but its not preachy or boring it just never gets old despite my having seen it some 15 or more times in the last 25 years paul lukas performance brings tears to my eyes and bette davis in one of her very few truly sympathetic roles is a delight the kids are as grandma says more like dressedup midgets than children but that only makes them more fun to watch and the mothers slow awakening to whats happening in the world and under her own roof is believable and startling if i had a dozen thumbs theyd all be up for this movie'\n",
        "print(text)"
      ],
      "metadata": {
        "trusted": true,
        "execution": {
          "iopub.status.busy": "2025-10-07T06:35:34.760154Z",
          "iopub.execute_input": "2025-10-07T06:35:34.760642Z",
          "iopub.status.idle": "2025-10-07T06:35:34.767616Z",
          "shell.execute_reply.started": "2025-10-07T06:35:34.760605Z",
          "shell.execute_reply": "2025-10-07T06:35:34.766162Z"
        },
        "id": "F0zd1Ue6bQ-G",
        "outputId": "d186f389-07cb-4f36-e950-d1273491431d"
      },
      "outputs": [
        {
          "name": "stdout",
          "text": "probably my alltime favorite movie a story of selflessness sacrifice and dedication to a noble cause but its not preachy or boring it just never gets old despite my having seen it some 15 or more times in the last 25 years paul lukas performance brings tears to my eyes and bette davis in one of her very few truly sympathetic roles is a delight the kids are as grandma says more like dressedup midgets than children but that only makes them more fun to watch and the mothers slow awakening to whats happening in the world and under her own roof is believable and startling if i had a dozen thumbs theyd all be up for this movie\n",
          "output_type": "stream"
        }
      ],
      "execution_count": null
    },
    {
      "cell_type": "code",
      "source": [
        "stem_words(text)"
      ],
      "metadata": {
        "trusted": true,
        "execution": {
          "iopub.status.busy": "2025-10-07T06:36:05.817918Z",
          "iopub.execute_input": "2025-10-07T06:36:05.818299Z",
          "iopub.status.idle": "2025-10-07T06:36:05.82774Z",
          "shell.execute_reply.started": "2025-10-07T06:36:05.818276Z",
          "shell.execute_reply": "2025-10-07T06:36:05.826264Z"
        },
        "id": "gTYxN3xAbQ-G",
        "outputId": "ca94ced7-ecbb-410b-b2d1-b562ecf0ee98"
      },
      "outputs": [
        {
          "execution_count": 44,
          "output_type": "execute_result",
          "data": {
            "text/plain": "'probabl my alltim favorit movi a stori of selfless sacrific and dedic to a nobl caus but it not preachi or bore it just never get old despit my have seen it some 15 or more time in the last 25 year paul luka perform bring tear to my eye and bett davi in one of her veri few truli sympathet role is a delight the kid are as grandma say more like dressedup midget than children but that onli make them more fun to watch and the mother slow awaken to what happen in the world and under her own roof is believ and startl if i had a dozen thumb theyd all be up for thi movi'"
          },
          "metadata": {}
        }
      ],
      "execution_count": null
    },
    {
      "cell_type": "code",
      "source": [
        "import nltk\n",
        "from nltk.stem import WordNetLemmatizer\n",
        "wordnet_lemmatizer = WordNetLemmatizer()\n",
        "\n",
        "sentence = \"He was running and eating at same time. He has bad habit of swimming after playing long hours in the Sun.\"\n",
        "punctuations = \"?:!.,;\"\n",
        "sentence_words = nltk.word_tokenize(sentence)\n",
        "for word in sentence_words:\n",
        "    if word in punctuations:\n",
        "        sentence_words.remove(word)\n",
        "\n",
        "sentence_words"
      ],
      "metadata": {
        "trusted": true,
        "execution": {
          "iopub.status.busy": "2025-10-07T06:40:28.453735Z",
          "iopub.execute_input": "2025-10-07T06:40:28.45443Z",
          "iopub.status.idle": "2025-10-07T06:40:28.46411Z",
          "shell.execute_reply.started": "2025-10-07T06:40:28.454395Z",
          "shell.execute_reply": "2025-10-07T06:40:28.463075Z"
        },
        "id": "u9jDiR6abQ-G",
        "outputId": "9d8e1ad8-b2b2-46d9-a8a9-541e3d690770"
      },
      "outputs": [
        {
          "execution_count": 45,
          "output_type": "execute_result",
          "data": {
            "text/plain": "['He',\n 'was',\n 'running',\n 'and',\n 'eating',\n 'at',\n 'same',\n 'time',\n 'He',\n 'has',\n 'bad',\n 'habit',\n 'of',\n 'swimming',\n 'after',\n 'playing',\n 'long',\n 'hours',\n 'in',\n 'the',\n 'Sun']"
          },
          "metadata": {}
        }
      ],
      "execution_count": null
    },
    {
      "cell_type": "code",
      "source": [],
      "metadata": {
        "trusted": true,
        "id": "W3NQsV8ObQ-G"
      },
      "outputs": [],
      "execution_count": null
    },
    {
      "cell_type": "code",
      "source": [
        "print(\"{0:20}{1:20}\".format(\"Word\",\"Lemma\"))\n",
        "for word in sentence_words:\n",
        "    print (\"{0:20}{1:20}\".format(word,wordnet_lemmatizer.lemmatize(word,pos='v')))"
      ],
      "metadata": {
        "trusted": true,
        "execution": {
          "iopub.status.busy": "2025-10-07T06:42:51.389435Z",
          "iopub.execute_input": "2025-10-07T06:42:51.390412Z",
          "iopub.status.idle": "2025-10-07T06:42:54.974607Z",
          "shell.execute_reply.started": "2025-10-07T06:42:51.390375Z",
          "shell.execute_reply": "2025-10-07T06:42:54.973009Z"
        },
        "id": "8zn6VBMHbQ-G",
        "outputId": "272e74fe-018d-48b4-d483-a4e3b106cfeb"
      },
      "outputs": [
        {
          "name": "stdout",
          "text": "Word                Lemma               \nHe                  He                  \nwas                 be                  \nrunning             run                 \nand                 and                 \neating              eat                 \nat                  at                  \nsame                same                \ntime                time                \nHe                  He                  \nhas                 have                \nbad                 bad                 \nhabit               habit               \nof                  of                  \nswimming            swim                \nafter               after               \nplaying             play                \nlong                long                \nhours               hours               \nin                  in                  \nthe                 the                 \nSun                 Sun                 \n",
          "output_type": "stream"
        }
      ],
      "execution_count": null
    },
    {
      "cell_type": "code",
      "source": [],
      "metadata": {
        "trusted": true,
        "id": "ZmRJJIzfbQ-G"
      },
      "outputs": [],
      "execution_count": null
    }
  ]
}